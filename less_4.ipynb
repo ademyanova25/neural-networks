{
 "cells": [
  {
   "cell_type": "markdown",
   "metadata": {
    "id": "HDS56_GsjsBV"
   },
   "source": [
    "# Пример создания сверточных и пуллинг слоев"
   ]
  },
  {
   "cell_type": "code",
   "execution_count": 2,
   "metadata": {
    "scrolled": true
   },
   "outputs": [
    {
     "data": {
      "text/plain": [
       "[]"
      ]
     },
     "execution_count": 2,
     "metadata": {},
     "output_type": "execute_result"
    }
   ],
   "source": [
    "import numpy as np\n",
    "import matplotlib.pyplot as plt\n",
    "import tensorflow as tf\n",
    "from tensorflow.keras.models import Sequential\n",
    "from tensorflow.keras.layers import Conv2D, GlobalMaxPooling2D, MaxPooling2D, AveragePooling2D\n",
    "\n",
    "\n",
    "tf.config.list_physical_devices('GPU')"
   ]
  },
  {
   "cell_type": "markdown",
   "metadata": {
    "id": "WWcUWSWpt0Rl"
   },
   "source": [
    "# Более сложная нейронная сеть"
   ]
  },
  {
   "cell_type": "code",
   "execution_count": 3,
   "metadata": {
    "id": "FJNIZ_AItRGs"
   },
   "outputs": [],
   "source": [
    "from tensorflow import keras \n",
    "from tensorflow.keras.datasets import cifar10\n",
    "from tensorflow.keras.preprocessing.image import ImageDataGenerator\n",
    "from tensorflow.keras.models import Sequential\n",
    "from tensorflow.keras.layers import Dense, Dropout, Activation, Flatten, Conv2D, MaxPooling2D\n",
    "import os\n",
    "import matplotlib.pyplot as plt\n",
    "import pandas as pd"
   ]
  },
  {
   "cell_type": "code",
   "execution_count": 4,
   "metadata": {},
   "outputs": [],
   "source": [
    "import logging\n",
    "tf.autograph.set_verbosity(0)\n",
    "logging.getLogger(\"tensorflow\").setLevel(logging.ERROR)"
   ]
  },
  {
   "cell_type": "code",
   "execution_count": 5,
   "metadata": {},
   "outputs": [],
   "source": [
    "import warnings\n",
    "\n",
    "warnings.filterwarnings('ignore')"
   ]
  },
  {
   "cell_type": "code",
   "execution_count": 6,
   "metadata": {
    "id": "MaMMi0T9t6hN"
   },
   "outputs": [],
   "source": [
    "save_dir = os.path.join(os.getcwd(), 'saved_models')\n",
    "model_name = 'keras_cifar10_trained_model.h5'"
   ]
  },
  {
   "cell_type": "code",
   "execution_count": 7,
   "metadata": {},
   "outputs": [
    {
     "name": "stdout",
     "output_type": "stream",
     "text": [
      "x_train shape: (50000, 32, 32, 3)\n",
      "50000 тренировочные примеры\n",
      "10000 тестовые примеры\n"
     ]
    }
   ],
   "source": [
    "seed = 7\n",
    "np.random.seed(seed)\n",
    "\n",
    "# разделение тренировочной и тестовой выборки\n",
    "(x_train, y_train), (x_test, y_test) = cifar10.load_data()\n",
    "print('x_train shape:', x_train.shape)\n",
    "print(x_train.shape[0], 'тренировочные примеры')\n",
    "print(x_test.shape[0], 'тестовые примеры')\n",
    "\n",
    "y_train = keras.utils.to_categorical(y_train)\n",
    "y_test = keras.utils.to_categorical(y_test)\n",
    "num_classes = y_train.shape[1]\n",
    "\n",
    "x_train = x_train.astype('float32')\n",
    "x_test = x_test.astype('float32')\n",
    "x_train /= 255\n",
    "x_test /= 255"
   ]
  },
  {
   "cell_type": "code",
   "execution_count": 128,
   "metadata": {},
   "outputs": [],
   "source": [
    "model = Sequential()\n",
    "model.add(Conv2D(32, (3, 3), input_shape=x_train.shape[1:], padding='same', activation='relu'))\n",
    "model.add(Dropout(0.2))\n",
    "model.add(Conv2D(32, (3, 3), activation='relu', padding='same'))\n",
    "model.add(MaxPooling2D(pool_size=(2, 2)))\n",
    "model.add(Flatten())\n",
    "model.add(Dense(512, activation='relu'))\n",
    "model.add(Dropout(0.5))\n",
    "model.add(Dense(10, activation='softmax'))"
   ]
  },
  {
   "cell_type": "code",
   "execution_count": 129,
   "metadata": {},
   "outputs": [],
   "source": [
    "opt = keras.optimizers.RMSprop(learning_rate=0.0001, decay=1e-6)"
   ]
  },
  {
   "cell_type": "code",
   "execution_count": 130,
   "metadata": {},
   "outputs": [],
   "source": [
    "model.compile(loss='categorical_crossentropy', optimizer=opt, metrics=['accuracy'])"
   ]
  },
  {
   "cell_type": "code",
   "execution_count": 131,
   "metadata": {},
   "outputs": [
    {
     "name": "stdout",
     "output_type": "stream",
     "text": [
      "Epoch 1/5\n",
      "391/391 - 16s - loss: 2.2379 - accuracy: 0.2318\n",
      "Epoch 2/5\n",
      "391/391 - 15s - loss: 2.2350 - accuracy: 0.2970\n",
      "Epoch 3/5\n",
      "391/391 - 15s - loss: 2.2019 - accuracy: 0.3248\n",
      "Epoch 4/5\n",
      "391/391 - 16s - loss: 2.2316 - accuracy: 0.3471\n",
      "Epoch 5/5\n",
      "391/391 - 274s - loss: 2.1813 - accuracy: 0.3623\n"
     ]
    },
    {
     "data": {
      "text/plain": [
       "<tensorflow.python.keras.callbacks.History at 0x307922430>"
      ]
     },
     "execution_count": 131,
     "metadata": {},
     "output_type": "execute_result"
    }
   ],
   "source": [
    "model.fit(x=x_train, y=y_train, epochs=5, batch_size=128, verbose=2)"
   ]
  },
  {
   "cell_type": "code",
   "execution_count": 132,
   "metadata": {},
   "outputs": [
    {
     "name": "stdout",
     "output_type": "stream",
     "text": [
      "Accuracy: 48.84%\n"
     ]
    }
   ],
   "source": [
    "score = model.evaluate(x=x_test, y=y_test, verbose=0)\n",
    "print('Accuracy: %.2f%%' % (score[1] * 100))"
   ]
  },
  {
   "cell_type": "markdown",
   "metadata": {},
   "source": [
    "Попробуем sgd"
   ]
  },
  {
   "cell_type": "code",
   "execution_count": 8,
   "metadata": {},
   "outputs": [],
   "source": [
    "from tensorflow.keras.optimizers import SGD"
   ]
  },
  {
   "cell_type": "code",
   "execution_count": 9,
   "metadata": {},
   "outputs": [],
   "source": [
    "lrate = 0.01\n",
    "epochs=25\n",
    "decay = lrate/epochs\n",
    "sgd = SGD(lr=lrate, momentum=0.9, decay=decay, nesterov=False)"
   ]
  },
  {
   "cell_type": "code",
   "execution_count": 136,
   "metadata": {},
   "outputs": [],
   "source": [
    "model = Sequential()\n",
    "model.add(Conv2D(32, (3, 3), input_shape=x_train.shape[1:], padding='same', activation='relu'))\n",
    "model.add(Dropout(0.2))\n",
    "model.add(Conv2D(32, (3, 3), activation='relu', padding='same'))\n",
    "model.add(MaxPooling2D(pool_size=(2, 2)))\n",
    "model.add(Flatten())\n",
    "model.add(Dense(512, activation='relu'))\n",
    "model.add(Dropout(0.5))\n",
    "model.add(Dense(10, activation='softmax'))"
   ]
  },
  {
   "cell_type": "code",
   "execution_count": 137,
   "metadata": {},
   "outputs": [
    {
     "name": "stdout",
     "output_type": "stream",
     "text": [
      "Epoch 1/5\n",
      "391/391 - 14s - loss: 1.8905 - accuracy: 0.3211\n",
      "Epoch 2/5\n",
      "391/391 - 14s - loss: 1.5924 - accuracy: 0.4327\n",
      "Epoch 3/5\n",
      "391/391 - 13s - loss: 1.4865 - accuracy: 0.4740\n",
      "Epoch 4/5\n",
      "391/391 - 13s - loss: 1.4123 - accuracy: 0.5017\n",
      "Epoch 5/5\n",
      "391/391 - 13s - loss: 1.3658 - accuracy: 0.5240\n"
     ]
    },
    {
     "data": {
      "text/plain": [
       "<tensorflow.python.keras.callbacks.History at 0x307c093a0>"
      ]
     },
     "execution_count": 137,
     "metadata": {},
     "output_type": "execute_result"
    }
   ],
   "source": [
    "model.compile(loss='categorical_crossentropy', optimizer=sgd, metrics=['accuracy'])\n",
    "model.fit(x=x_train, y=y_train, epochs=5, batch_size=128, verbose=2)"
   ]
  },
  {
   "cell_type": "code",
   "execution_count": 138,
   "metadata": {},
   "outputs": [
    {
     "name": "stdout",
     "output_type": "stream",
     "text": [
      "Accuracy: 58.30%\n"
     ]
    }
   ],
   "source": [
    "score = model.evaluate(x=x_test, y=y_test, verbose=0)\n",
    "print('Accuracy: %.2f%%' % (score[1] * 100))"
   ]
  },
  {
   "cell_type": "markdown",
   "metadata": {},
   "source": [
    "Увеличим количество эпох"
   ]
  },
  {
   "cell_type": "code",
   "execution_count": 14,
   "metadata": {},
   "outputs": [],
   "source": [
    "model = Sequential()\n",
    "model.add(Conv2D(32, (3, 3), input_shape=x_train.shape[1:], padding='same', activation='relu'))\n",
    "model.add(Dropout(0.2))\n",
    "model.add(Conv2D(32, (3, 3), activation='relu', padding='same'))\n",
    "model.add(MaxPooling2D(pool_size=(2, 2)))\n",
    "model.add(Flatten())\n",
    "model.add(Dense(512, activation='relu'))\n",
    "model.add(Dropout(0.5))\n",
    "model.add(Dense(10, activation='softmax'))"
   ]
  },
  {
   "cell_type": "code",
   "execution_count": 15,
   "metadata": {},
   "outputs": [
    {
     "name": "stdout",
     "output_type": "stream",
     "text": [
      "Epoch 1/15\n",
      "391/391 - 13s - loss: 1.9185 - accuracy: 0.3131\n",
      "Epoch 2/15\n",
      "391/391 - 13s - loss: 1.6306 - accuracy: 0.4189\n",
      "Epoch 3/15\n",
      "391/391 - 13s - loss: 1.5245 - accuracy: 0.4594\n",
      "Epoch 4/15\n",
      "391/391 - 13s - loss: 1.4448 - accuracy: 0.4894\n",
      "Epoch 5/15\n",
      "391/391 - 13s - loss: 1.3960 - accuracy: 0.5112\n",
      "Epoch 6/15\n",
      "391/391 - 13s - loss: 1.3638 - accuracy: 0.5266\n",
      "Epoch 7/15\n",
      "391/391 - 13s - loss: 1.3236 - accuracy: 0.5400\n",
      "Epoch 8/15\n",
      "391/391 - 13s - loss: 1.2912 - accuracy: 0.5559\n",
      "Epoch 9/15\n",
      "391/391 - 13s - loss: 1.2794 - accuracy: 0.5636\n",
      "Epoch 10/15\n",
      "391/391 - 13s - loss: 1.2764 - accuracy: 0.5697\n",
      "Epoch 11/15\n",
      "391/391 - 13s - loss: 1.2514 - accuracy: 0.5823\n",
      "Epoch 12/15\n",
      "391/391 - 13s - loss: 1.2651 - accuracy: 0.5853\n",
      "Epoch 13/15\n",
      "391/391 - 13s - loss: 1.2348 - accuracy: 0.5957\n",
      "Epoch 14/15\n",
      "391/391 - 13s - loss: 1.2423 - accuracy: 0.6008\n",
      "Epoch 15/15\n",
      "391/391 - 13s - loss: 1.2449 - accuracy: 0.6006\n"
     ]
    },
    {
     "data": {
      "text/plain": [
       "<tensorflow.python.keras.callbacks.History at 0x1691d42e0>"
      ]
     },
     "execution_count": 15,
     "metadata": {},
     "output_type": "execute_result"
    }
   ],
   "source": [
    "sgd = SGD(lr=lrate, momentum=0.9, decay=decay, nesterov=False)\n",
    "model.compile(loss='categorical_crossentropy', optimizer=sgd, metrics=['accuracy'])\n",
    "model.fit(x=x_train, y=y_train, epochs=15, batch_size=128, verbose=2)"
   ]
  },
  {
   "cell_type": "code",
   "execution_count": 16,
   "metadata": {},
   "outputs": [
    {
     "name": "stdout",
     "output_type": "stream",
     "text": [
      "Accuracy: 61.57%\n"
     ]
    }
   ],
   "source": [
    "score = model.evaluate(x=x_test, y=y_test, verbose=0)\n",
    "print('Accuracy: %.2f%%' % (score[1] * 100))"
   ]
  },
  {
   "cell_type": "code",
   "execution_count": 17,
   "metadata": {},
   "outputs": [],
   "source": [
    "model = Sequential()\n",
    "model.add(Conv2D(32, (3, 3), input_shape=x_train.shape[1:], padding='same', activation='relu'))\n",
    "model.add(Dropout(0.2))\n",
    "model.add(Conv2D(32, (3, 3), activation='relu', padding='same'))\n",
    "model.add(MaxPooling2D(pool_size=(2, 2)))\n",
    "model.add(Flatten())\n",
    "model.add(Dense(512, activation='relu'))\n",
    "model.add(Dropout(0.5))\n",
    "model.add(Dense(10, activation='softmax'))"
   ]
  },
  {
   "cell_type": "code",
   "execution_count": 18,
   "metadata": {},
   "outputs": [
    {
     "name": "stdout",
     "output_type": "stream",
     "text": [
      "Epoch 1/25\n",
      "391/391 - 13s - loss: 1.9258 - accuracy: 0.3104\n",
      "Epoch 2/25\n",
      "391/391 - 13s - loss: 1.6497 - accuracy: 0.4128\n",
      "Epoch 3/25\n",
      "391/391 - 13s - loss: 1.5505 - accuracy: 0.4483\n",
      "Epoch 4/25\n",
      "391/391 - 13s - loss: 1.4651 - accuracy: 0.4825\n",
      "Epoch 5/25\n",
      "391/391 - 13s - loss: 1.4027 - accuracy: 0.5043\n",
      "Epoch 6/25\n",
      "391/391 - 13s - loss: 1.3717 - accuracy: 0.5220\n",
      "Epoch 7/25\n",
      "391/391 - 13s - loss: 1.3196 - accuracy: 0.5418\n",
      "Epoch 8/25\n",
      "391/391 - 13s - loss: 1.3194 - accuracy: 0.5510\n",
      "Epoch 9/25\n",
      "391/391 - 13s - loss: 1.2873 - accuracy: 0.5585\n",
      "Epoch 10/25\n",
      "391/391 - 13s - loss: 1.2765 - accuracy: 0.5689\n",
      "Epoch 11/25\n",
      "391/391 - 13s - loss: 1.2639 - accuracy: 0.5753\n",
      "Epoch 12/25\n",
      "391/391 - 13s - loss: 1.2612 - accuracy: 0.5800\n",
      "Epoch 13/25\n",
      "391/391 - 13s - loss: 1.2496 - accuracy: 0.5892\n",
      "Epoch 14/25\n",
      "391/391 - 13s - loss: 1.2838 - accuracy: 0.5897\n",
      "Epoch 15/25\n",
      "391/391 - 13s - loss: 1.2283 - accuracy: 0.6047\n",
      "Epoch 16/25\n",
      "391/391 - 13s - loss: 1.2324 - accuracy: 0.6084\n",
      "Epoch 17/25\n",
      "391/391 - 13s - loss: 1.2458 - accuracy: 0.6090\n",
      "Epoch 18/25\n",
      "391/391 - 13s - loss: 1.2751 - accuracy: 0.6091\n",
      "Epoch 19/25\n",
      "391/391 - 13s - loss: 1.3141 - accuracy: 0.6105\n",
      "Epoch 20/25\n",
      "391/391 - 13s - loss: 1.3083 - accuracy: 0.6146\n",
      "Epoch 21/25\n",
      "391/391 - 13s - loss: 1.3196 - accuracy: 0.6195\n",
      "Epoch 22/25\n",
      "391/391 - 13s - loss: 1.3289 - accuracy: 0.6226\n",
      "Epoch 23/25\n",
      "391/391 - 13s - loss: 1.3595 - accuracy: 0.6228\n",
      "Epoch 24/25\n",
      "391/391 - 13s - loss: 1.3806 - accuracy: 0.6300\n",
      "Epoch 25/25\n",
      "391/391 - 13s - loss: 1.4383 - accuracy: 0.6273\n"
     ]
    },
    {
     "data": {
      "text/plain": [
       "<tensorflow.python.keras.callbacks.History at 0x16a426040>"
      ]
     },
     "execution_count": 18,
     "metadata": {},
     "output_type": "execute_result"
    }
   ],
   "source": [
    "sgd = SGD(lr=lrate, momentum=0.9, decay=decay, nesterov=False)\n",
    "model.compile(loss='categorical_crossentropy', optimizer=sgd, metrics=['accuracy'])\n",
    "model.fit(x=x_train, y=y_train, epochs=25, batch_size=128, verbose=2)"
   ]
  },
  {
   "cell_type": "code",
   "execution_count": 19,
   "metadata": {},
   "outputs": [
    {
     "name": "stdout",
     "output_type": "stream",
     "text": [
      "Accuracy: 61.75%\n"
     ]
    }
   ],
   "source": [
    "score = model.evaluate(x=x_test, y=y_test, verbose=0)\n",
    "print('Accuracy: %.2f%%' % (score[1] * 100))"
   ]
  },
  {
   "cell_type": "markdown",
   "metadata": {},
   "source": [
    "Существенных отличий нет - будем использовать 15 эпох"
   ]
  },
  {
   "cell_type": "markdown",
   "metadata": {},
   "source": [
    "Добавим слоев"
   ]
  },
  {
   "cell_type": "code",
   "execution_count": 103,
   "metadata": {},
   "outputs": [],
   "source": [
    "model = Sequential()\n",
    "model.add(Conv2D(32, (3, 3), input_shape=x_train.shape[1:], padding='same', activation='relu'))\n",
    "model.add(Dropout(0.2))\n",
    "\n",
    "model.add(Conv2D(32, (3, 3), activation='relu', padding='same'))\n",
    "model.add(MaxPooling2D(pool_size=(2, 2)))\n",
    "model.add(Conv2D(64, (3, 3), activation='relu', padding='same'))\n",
    "model.add(Dropout(0.2))\n",
    "\n",
    "model.add(Conv2D(64, (3, 3), activation='relu', padding='same'))\n",
    "model.add(MaxPooling2D(pool_size=(2, 2)))\n",
    "model.add(Conv2D(128, (3, 3), activation='relu', padding='same'))\n",
    "model.add(Dropout(0.2))\n",
    "\n",
    "model.add(Flatten())\n",
    "model.add(Dense(512, activation='relu'))\n",
    "model.add(Dropout(0.5))\n",
    "\n",
    "model.add(Dense(10, activation='softmax'))"
   ]
  },
  {
   "cell_type": "code",
   "execution_count": 104,
   "metadata": {},
   "outputs": [
    {
     "name": "stdout",
     "output_type": "stream",
     "text": [
      "Epoch 1/15\n",
      "391/391 - 23s - loss: 1.9868 - accuracy: 0.2766\n",
      "Epoch 2/15\n",
      "391/391 - 23s - loss: 1.6602 - accuracy: 0.4042\n",
      "Epoch 3/15\n",
      "391/391 - 22s - loss: 1.5404 - accuracy: 0.4534\n",
      "Epoch 4/15\n",
      "391/391 - 23s - loss: 1.4779 - accuracy: 0.4800\n",
      "Epoch 5/15\n",
      "391/391 - 22s - loss: 1.4538 - accuracy: 0.5021\n",
      "Epoch 6/15\n",
      "391/391 - 22s - loss: 1.4309 - accuracy: 0.5190\n",
      "Epoch 7/15\n",
      "391/391 - 22s - loss: 1.4255 - accuracy: 0.5340\n",
      "Epoch 8/15\n",
      "391/391 - 22s - loss: 1.4469 - accuracy: 0.5412\n",
      "Epoch 9/15\n",
      "391/391 - 22s - loss: 1.4768 - accuracy: 0.5559\n",
      "Epoch 10/15\n",
      "391/391 - 22s - loss: 1.4886 - accuracy: 0.5610\n",
      "Epoch 11/15\n",
      "391/391 - 22s - loss: 1.5549 - accuracy: 0.5705\n",
      "Epoch 12/15\n",
      "391/391 - 23s - loss: 1.6319 - accuracy: 0.5716\n",
      "Epoch 13/15\n",
      "391/391 - 23s - loss: 1.7584 - accuracy: 0.5730\n",
      "Epoch 14/15\n",
      "391/391 - 23s - loss: 2.0232 - accuracy: 0.5708\n",
      "Epoch 15/15\n",
      "391/391 - 23s - loss: 2.0805 - accuracy: 0.5739\n"
     ]
    },
    {
     "data": {
      "text/plain": [
       "<tensorflow.python.keras.callbacks.History at 0x2e95cec70>"
      ]
     },
     "execution_count": 104,
     "metadata": {},
     "output_type": "execute_result"
    }
   ],
   "source": [
    "sgd = SGD(lr=lrate, momentum=0.9, decay=decay, nesterov=False)\n",
    "model.compile(loss='categorical_crossentropy', optimizer=sgd, metrics=['accuracy'])\n",
    "model.fit(x=x_train, y=y_train, epochs=15, batch_size=128, verbose=2)"
   ]
  },
  {
   "cell_type": "code",
   "execution_count": 105,
   "metadata": {},
   "outputs": [
    {
     "name": "stdout",
     "output_type": "stream",
     "text": [
      "Accuracy: 61.84%\n"
     ]
    }
   ],
   "source": [
    "score = model.evaluate(x=x_test, y=y_test, verbose=0)\n",
    "print('Accuracy: %.2f%%' % (score[1] * 100))"
   ]
  },
  {
   "cell_type": "code",
   "execution_count": null,
   "metadata": {},
   "outputs": [],
   "source": []
  }
 ],
 "metadata": {
  "accelerator": "GPU",
  "colab": {
   "name": "Lesson 4.ipynb",
   "provenance": []
  },
  "kernelspec": {
   "display_name": "Python 3 (ipykernel)",
   "language": "python",
   "name": "python3"
  },
  "language_info": {
   "codemirror_mode": {
    "name": "ipython",
    "version": 3
   },
   "file_extension": ".py",
   "mimetype": "text/x-python",
   "name": "python",
   "nbconvert_exporter": "python",
   "pygments_lexer": "ipython3",
   "version": "3.8.13"
  }
 },
 "nbformat": 4,
 "nbformat_minor": 1
}
