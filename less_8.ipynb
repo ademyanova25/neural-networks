{
 "cells": [
  {
   "cell_type": "code",
   "execution_count": 1,
   "id": "e7555f8d-1580-4b74-a58b-e154e5c0410b",
   "metadata": {},
   "outputs": [],
   "source": [
    "import pandas as pd\n",
    "import numpy as np\n",
    "import matplotlib.pyplot as plt"
   ]
  },
  {
   "cell_type": "code",
   "execution_count": 2,
   "id": "9d73fe02-8f91-4d3f-94fd-0ccf2d540dc4",
   "metadata": {},
   "outputs": [],
   "source": [
    "df = pd.read_csv('neo.csv')"
   ]
  },
  {
   "cell_type": "code",
   "execution_count": 3,
   "id": "9890c7d1-38b6-498b-a04c-c6400e5aabea",
   "metadata": {},
   "outputs": [
    {
     "data": {
      "text/html": [
       "<div>\n",
       "<style scoped>\n",
       "    .dataframe tbody tr th:only-of-type {\n",
       "        vertical-align: middle;\n",
       "    }\n",
       "\n",
       "    .dataframe tbody tr th {\n",
       "        vertical-align: top;\n",
       "    }\n",
       "\n",
       "    .dataframe thead th {\n",
       "        text-align: right;\n",
       "    }\n",
       "</style>\n",
       "<table border=\"1\" class=\"dataframe\">\n",
       "  <thead>\n",
       "    <tr style=\"text-align: right;\">\n",
       "      <th></th>\n",
       "      <th>id</th>\n",
       "      <th>name</th>\n",
       "      <th>est_diameter_min</th>\n",
       "      <th>est_diameter_max</th>\n",
       "      <th>relative_velocity</th>\n",
       "      <th>miss_distance</th>\n",
       "      <th>orbiting_body</th>\n",
       "      <th>sentry_object</th>\n",
       "      <th>absolute_magnitude</th>\n",
       "      <th>hazardous</th>\n",
       "    </tr>\n",
       "  </thead>\n",
       "  <tbody>\n",
       "    <tr>\n",
       "      <th>0</th>\n",
       "      <td>2162635</td>\n",
       "      <td>162635 (2000 SS164)</td>\n",
       "      <td>1.198271</td>\n",
       "      <td>2.679415</td>\n",
       "      <td>13569.249224</td>\n",
       "      <td>5.483974e+07</td>\n",
       "      <td>Earth</td>\n",
       "      <td>False</td>\n",
       "      <td>16.73</td>\n",
       "      <td>False</td>\n",
       "    </tr>\n",
       "    <tr>\n",
       "      <th>1</th>\n",
       "      <td>2277475</td>\n",
       "      <td>277475 (2005 WK4)</td>\n",
       "      <td>0.265800</td>\n",
       "      <td>0.594347</td>\n",
       "      <td>73588.726663</td>\n",
       "      <td>6.143813e+07</td>\n",
       "      <td>Earth</td>\n",
       "      <td>False</td>\n",
       "      <td>20.00</td>\n",
       "      <td>True</td>\n",
       "    </tr>\n",
       "    <tr>\n",
       "      <th>2</th>\n",
       "      <td>2512244</td>\n",
       "      <td>512244 (2015 YE18)</td>\n",
       "      <td>0.722030</td>\n",
       "      <td>1.614507</td>\n",
       "      <td>114258.692129</td>\n",
       "      <td>4.979872e+07</td>\n",
       "      <td>Earth</td>\n",
       "      <td>False</td>\n",
       "      <td>17.83</td>\n",
       "      <td>False</td>\n",
       "    </tr>\n",
       "    <tr>\n",
       "      <th>3</th>\n",
       "      <td>3596030</td>\n",
       "      <td>(2012 BV13)</td>\n",
       "      <td>0.096506</td>\n",
       "      <td>0.215794</td>\n",
       "      <td>24764.303138</td>\n",
       "      <td>2.543497e+07</td>\n",
       "      <td>Earth</td>\n",
       "      <td>False</td>\n",
       "      <td>22.20</td>\n",
       "      <td>False</td>\n",
       "    </tr>\n",
       "    <tr>\n",
       "      <th>4</th>\n",
       "      <td>3667127</td>\n",
       "      <td>(2014 GE35)</td>\n",
       "      <td>0.255009</td>\n",
       "      <td>0.570217</td>\n",
       "      <td>42737.733765</td>\n",
       "      <td>4.627557e+07</td>\n",
       "      <td>Earth</td>\n",
       "      <td>False</td>\n",
       "      <td>20.09</td>\n",
       "      <td>True</td>\n",
       "    </tr>\n",
       "  </tbody>\n",
       "</table>\n",
       "</div>"
      ],
      "text/plain": [
       "        id                 name  est_diameter_min  est_diameter_max  \\\n",
       "0  2162635  162635 (2000 SS164)          1.198271          2.679415   \n",
       "1  2277475    277475 (2005 WK4)          0.265800          0.594347   \n",
       "2  2512244   512244 (2015 YE18)          0.722030          1.614507   \n",
       "3  3596030          (2012 BV13)          0.096506          0.215794   \n",
       "4  3667127          (2014 GE35)          0.255009          0.570217   \n",
       "\n",
       "   relative_velocity  miss_distance orbiting_body  sentry_object  \\\n",
       "0       13569.249224   5.483974e+07         Earth          False   \n",
       "1       73588.726663   6.143813e+07         Earth          False   \n",
       "2      114258.692129   4.979872e+07         Earth          False   \n",
       "3       24764.303138   2.543497e+07         Earth          False   \n",
       "4       42737.733765   4.627557e+07         Earth          False   \n",
       "\n",
       "   absolute_magnitude  hazardous  \n",
       "0               16.73      False  \n",
       "1               20.00       True  \n",
       "2               17.83      False  \n",
       "3               22.20      False  \n",
       "4               20.09       True  "
      ]
     },
     "execution_count": 3,
     "metadata": {},
     "output_type": "execute_result"
    }
   ],
   "source": [
    "df.head()"
   ]
  },
  {
   "cell_type": "code",
   "execution_count": 4,
   "id": "902269ca-707e-4028-95ef-75540931959c",
   "metadata": {},
   "outputs": [
    {
     "data": {
      "text/plain": [
       "0        162635 (2000 SS164)\n",
       "1          277475 (2005 WK4)\n",
       "2         512244 (2015 YE18)\n",
       "3                (2012 BV13)\n",
       "4                (2014 GE35)\n",
       "                ...         \n",
       "90831             (2016 VX1)\n",
       "90832             (2019 AD3)\n",
       "90833             (2020 JP3)\n",
       "90834             (2021 CN5)\n",
       "90835             (2021 TW7)\n",
       "Name: name, Length: 90836, dtype: object"
      ]
     },
     "execution_count": 4,
     "metadata": {},
     "output_type": "execute_result"
    }
   ],
   "source": [
    "df['name']"
   ]
  },
  {
   "cell_type": "code",
   "execution_count": 5,
   "id": "9247f220-26d9-4b57-bffc-7c7b4c439015",
   "metadata": {},
   "outputs": [],
   "source": [
    "df['year'] = df['name'].str.split('(', expand=True)[1].str.split(' ', expand=True)[0]\n",
    "df['number'] = df['name'].str.split('(', expand=True)[1].str.split(' ', expand=True)[1].str.split(')',expand=True)[0]"
   ]
  },
  {
   "cell_type": "code",
   "execution_count": 6,
   "id": "d39ec66f-f907-4aa9-8984-0b497eb6f9f4",
   "metadata": {},
   "outputs": [
    {
     "data": {
      "text/html": [
       "<div>\n",
       "<style scoped>\n",
       "    .dataframe tbody tr th:only-of-type {\n",
       "        vertical-align: middle;\n",
       "    }\n",
       "\n",
       "    .dataframe tbody tr th {\n",
       "        vertical-align: top;\n",
       "    }\n",
       "\n",
       "    .dataframe thead th {\n",
       "        text-align: right;\n",
       "    }\n",
       "</style>\n",
       "<table border=\"1\" class=\"dataframe\">\n",
       "  <thead>\n",
       "    <tr style=\"text-align: right;\">\n",
       "      <th></th>\n",
       "      <th>id</th>\n",
       "      <th>name</th>\n",
       "      <th>est_diameter_min</th>\n",
       "      <th>est_diameter_max</th>\n",
       "      <th>relative_velocity</th>\n",
       "      <th>miss_distance</th>\n",
       "      <th>orbiting_body</th>\n",
       "      <th>sentry_object</th>\n",
       "      <th>absolute_magnitude</th>\n",
       "      <th>hazardous</th>\n",
       "      <th>year</th>\n",
       "      <th>number</th>\n",
       "    </tr>\n",
       "  </thead>\n",
       "  <tbody>\n",
       "    <tr>\n",
       "      <th>0</th>\n",
       "      <td>2162635</td>\n",
       "      <td>162635 (2000 SS164)</td>\n",
       "      <td>1.198271</td>\n",
       "      <td>2.679415</td>\n",
       "      <td>13569.249224</td>\n",
       "      <td>5.483974e+07</td>\n",
       "      <td>Earth</td>\n",
       "      <td>False</td>\n",
       "      <td>16.73</td>\n",
       "      <td>False</td>\n",
       "      <td>2000</td>\n",
       "      <td>SS164</td>\n",
       "    </tr>\n",
       "    <tr>\n",
       "      <th>1</th>\n",
       "      <td>2277475</td>\n",
       "      <td>277475 (2005 WK4)</td>\n",
       "      <td>0.265800</td>\n",
       "      <td>0.594347</td>\n",
       "      <td>73588.726663</td>\n",
       "      <td>6.143813e+07</td>\n",
       "      <td>Earth</td>\n",
       "      <td>False</td>\n",
       "      <td>20.00</td>\n",
       "      <td>True</td>\n",
       "      <td>2005</td>\n",
       "      <td>WK4</td>\n",
       "    </tr>\n",
       "    <tr>\n",
       "      <th>2</th>\n",
       "      <td>2512244</td>\n",
       "      <td>512244 (2015 YE18)</td>\n",
       "      <td>0.722030</td>\n",
       "      <td>1.614507</td>\n",
       "      <td>114258.692129</td>\n",
       "      <td>4.979872e+07</td>\n",
       "      <td>Earth</td>\n",
       "      <td>False</td>\n",
       "      <td>17.83</td>\n",
       "      <td>False</td>\n",
       "      <td>2015</td>\n",
       "      <td>YE18</td>\n",
       "    </tr>\n",
       "    <tr>\n",
       "      <th>3</th>\n",
       "      <td>3596030</td>\n",
       "      <td>(2012 BV13)</td>\n",
       "      <td>0.096506</td>\n",
       "      <td>0.215794</td>\n",
       "      <td>24764.303138</td>\n",
       "      <td>2.543497e+07</td>\n",
       "      <td>Earth</td>\n",
       "      <td>False</td>\n",
       "      <td>22.20</td>\n",
       "      <td>False</td>\n",
       "      <td>2012</td>\n",
       "      <td>BV13</td>\n",
       "    </tr>\n",
       "    <tr>\n",
       "      <th>4</th>\n",
       "      <td>3667127</td>\n",
       "      <td>(2014 GE35)</td>\n",
       "      <td>0.255009</td>\n",
       "      <td>0.570217</td>\n",
       "      <td>42737.733765</td>\n",
       "      <td>4.627557e+07</td>\n",
       "      <td>Earth</td>\n",
       "      <td>False</td>\n",
       "      <td>20.09</td>\n",
       "      <td>True</td>\n",
       "      <td>2014</td>\n",
       "      <td>GE35</td>\n",
       "    </tr>\n",
       "  </tbody>\n",
       "</table>\n",
       "</div>"
      ],
      "text/plain": [
       "        id                 name  est_diameter_min  est_diameter_max  \\\n",
       "0  2162635  162635 (2000 SS164)          1.198271          2.679415   \n",
       "1  2277475    277475 (2005 WK4)          0.265800          0.594347   \n",
       "2  2512244   512244 (2015 YE18)          0.722030          1.614507   \n",
       "3  3596030          (2012 BV13)          0.096506          0.215794   \n",
       "4  3667127          (2014 GE35)          0.255009          0.570217   \n",
       "\n",
       "   relative_velocity  miss_distance orbiting_body  sentry_object  \\\n",
       "0       13569.249224   5.483974e+07         Earth          False   \n",
       "1       73588.726663   6.143813e+07         Earth          False   \n",
       "2      114258.692129   4.979872e+07         Earth          False   \n",
       "3       24764.303138   2.543497e+07         Earth          False   \n",
       "4       42737.733765   4.627557e+07         Earth          False   \n",
       "\n",
       "   absolute_magnitude  hazardous  year number  \n",
       "0               16.73      False  2000  SS164  \n",
       "1               20.00       True  2005    WK4  \n",
       "2               17.83      False  2015   YE18  \n",
       "3               22.20      False  2012   BV13  \n",
       "4               20.09       True  2014   GE35  "
      ]
     },
     "execution_count": 6,
     "metadata": {},
     "output_type": "execute_result"
    }
   ],
   "source": [
    "df.head()"
   ]
  },
  {
   "cell_type": "code",
   "execution_count": 7,
   "id": "d28696b3-803c-4bb5-80f4-ce486c5ec78e",
   "metadata": {},
   "outputs": [],
   "source": [
    "df['year'] = df.year.apply(lambda x: x if x.isnumeric() else 0)"
   ]
  },
  {
   "cell_type": "code",
   "execution_count": 8,
   "id": "d9acda11-8f9d-4e71-b6fc-3ff3c49f89be",
   "metadata": {},
   "outputs": [],
   "source": [
    "df['year'] = df['year'].apply(int)"
   ]
  },
  {
   "cell_type": "code",
   "execution_count": 9,
   "id": "7d06df05-5117-4156-ab29-c878962b18b5",
   "metadata": {},
   "outputs": [],
   "source": [
    "import tensorflow as tf\n",
    "from tensorflow import keras"
   ]
  },
  {
   "cell_type": "code",
   "execution_count": 10,
   "id": "ff20061c-04aa-4039-8d97-16bf44aa01b6",
   "metadata": {},
   "outputs": [],
   "source": [
    "from sklearn.pipeline import Pipeline\n",
    "from sklearn.compose import ColumnTransformer\n",
    "from sklearn.preprocessing import StandardScaler\n",
    "from sklearn.preprocessing import OneHotEncoder\n",
    "from sklearn.impute import SimpleImputer"
   ]
  },
  {
   "cell_type": "code",
   "execution_count": 11,
   "id": "bcbc6943-9980-4dcb-8cfe-8ad76d082959",
   "metadata": {},
   "outputs": [],
   "source": [
    "X = df.drop(columns = 'hazardous')\n",
    "y = df['hazardous']"
   ]
  },
  {
   "cell_type": "code",
   "execution_count": 12,
   "id": "a2abf26a-c0bb-4e29-9a17-eaf6dba45394",
   "metadata": {},
   "outputs": [
    {
     "data": {
      "text/plain": [
       "id                      int64\n",
       "name                   object\n",
       "est_diameter_min      float64\n",
       "est_diameter_max      float64\n",
       "relative_velocity     float64\n",
       "miss_distance         float64\n",
       "orbiting_body          object\n",
       "sentry_object            bool\n",
       "absolute_magnitude    float64\n",
       "year                    int64\n",
       "number                 object\n",
       "dtype: object"
      ]
     },
     "execution_count": 12,
     "metadata": {},
     "output_type": "execute_result"
    }
   ],
   "source": [
    "X.dtypes"
   ]
  },
  {
   "cell_type": "code",
   "execution_count": 13,
   "id": "abee3d20-c6fb-4167-a15e-32148820affa",
   "metadata": {},
   "outputs": [],
   "source": [
    "num_columns = X.select_dtypes(include=['int64', 'float64']).columns\n",
    "cat_columns = X.select_dtypes(include=['object', 'bool']).columns"
   ]
  },
  {
   "cell_type": "code",
   "execution_count": 14,
   "id": "0c6fd92b-81b2-4ab9-849e-df8a3ed16942",
   "metadata": {},
   "outputs": [],
   "source": [
    "num_pipeline = Pipeline([\n",
    "    ('scaler', StandardScaler()),\n",
    "    ('imputer', SimpleImputer(strategy='median'))\n",
    "])\n",
    "cat_pipeline = Pipeline([\n",
    "    ('oh_encoder', OneHotEncoder())\n",
    "])"
   ]
  },
  {
   "cell_type": "code",
   "execution_count": 15,
   "id": "380bf987-8300-48da-9bf0-fdd79f86b40d",
   "metadata": {},
   "outputs": [],
   "source": [
    "X[num_columns] = num_pipeline.fit_transform(X[num_columns])"
   ]
  },
  {
   "cell_type": "code",
   "execution_count": 16,
   "id": "2c2ac94f-0296-4c4c-b1d0-50cea3f5f1d0",
   "metadata": {},
   "outputs": [
    {
     "data": {
      "text/plain": [
       "Index(['name', 'orbiting_body', 'sentry_object', 'number'], dtype='object')"
      ]
     },
     "execution_count": 16,
     "metadata": {},
     "output_type": "execute_result"
    }
   ],
   "source": [
    "cat_columns"
   ]
  },
  {
   "cell_type": "code",
   "execution_count": 17,
   "id": "b33e78bb-14cd-4bc9-b047-61960ba52faa",
   "metadata": {},
   "outputs": [],
   "source": [
    "X['name'] = cat_pipeline.fit_transform(X[['name']]).toarray()"
   ]
  },
  {
   "cell_type": "code",
   "execution_count": 18,
   "id": "04e5b1d6-a416-4515-a58d-6172d9ce2d8b",
   "metadata": {},
   "outputs": [],
   "source": [
    "X['sentry_object'] = cat_pipeline.fit_transform(X[['sentry_object']]).toarray()\n",
    "X['orbiting_body'] = cat_pipeline.fit_transform(X[['orbiting_body']]).toarray()\n",
    "X['number'] = cat_pipeline.fit_transform(X[['number']]).toarray()"
   ]
  },
  {
   "cell_type": "code",
   "execution_count": 19,
   "id": "8508e23a-7027-4efe-894d-86efb81231d3",
   "metadata": {},
   "outputs": [],
   "source": [
    "from sklearn.model_selection import train_test_split"
   ]
  },
  {
   "cell_type": "code",
   "execution_count": 20,
   "id": "3e925989-0f39-4e38-bd5d-a6e7d965712d",
   "metadata": {},
   "outputs": [],
   "source": [
    "train_X, test_X, train_Y, test_Y = train_test_split(X, y,\\\n",
    "                                                 test_size=0.2, random_state=0)"
   ]
  },
  {
   "cell_type": "code",
   "execution_count": 56,
   "id": "4e819afe-4a0a-4cc0-8290-98a2ecf0582b",
   "metadata": {},
   "outputs": [
    {
     "data": {
      "text/plain": [
       "(72668, 11)"
      ]
     },
     "execution_count": 56,
     "metadata": {},
     "output_type": "execute_result"
    }
   ],
   "source": [
    "train_X.shape"
   ]
  },
  {
   "cell_type": "code",
   "execution_count": 96,
   "id": "d8f74f2e-8390-43c7-aa90-d9b62c8fceee",
   "metadata": {},
   "outputs": [],
   "source": [
    "from keras.layers import Dense, Activation, Dense, Dropout, Conv1D, MaxPooling1D, Flatten\n",
    "from keras.layers import BatchNormalization"
   ]
  },
  {
   "cell_type": "code",
   "execution_count": 101,
   "id": "84988772-d137-4e4b-9280-ebce7461709d",
   "metadata": {},
   "outputs": [],
   "source": [
    "model = keras.models.Sequential([\n",
    "    keras.Input(shape=train_X.shape[1:]),\n",
    "    Dense(units=100, activation='selu', use_bias=False),\n",
    "    BatchNormalization(),\n",
    "    Dense(units=50, activation='selu', use_bias=False),\n",
    "    BatchNormalization(),\n",
    "    Dense(1, activation='sigmoid')\n",
    "])"
   ]
  },
  {
   "cell_type": "code",
   "execution_count": 102,
   "id": "b806ac5d-098b-4e02-a49a-604592f87b74",
   "metadata": {},
   "outputs": [],
   "source": [
    "model.compile(loss='binary_crossentropy', metrics='accuracy', optimizer='rmsprop')"
   ]
  },
  {
   "cell_type": "code",
   "execution_count": 103,
   "id": "e3a40826-bc2e-4230-bd5a-057fe505353c",
   "metadata": {},
   "outputs": [
    {
     "name": "stdout",
     "output_type": "stream",
     "text": [
      "Epoch 1/20\n",
      "2271/2271 [==============================] - 3s 997us/step - loss: 0.2334 - accuracy: 0.8983 - val_loss: 0.2178 - val_accuracy: 0.9075\n",
      "Epoch 2/20\n",
      "2271/2271 [==============================] - 2s 948us/step - loss: 0.2042 - accuracy: 0.9063 - val_loss: 0.2107 - val_accuracy: 0.9104\n",
      "Epoch 3/20\n",
      "2271/2271 [==============================] - 2s 939us/step - loss: 0.1979 - accuracy: 0.9084 - val_loss: 0.2008 - val_accuracy: 0.9075\n",
      "Epoch 4/20\n",
      "2271/2271 [==============================] - 2s 954us/step - loss: 0.1942 - accuracy: 0.9089 - val_loss: 0.2045 - val_accuracy: 0.9114\n",
      "Epoch 5/20\n",
      "2271/2271 [==============================] - 2s 947us/step - loss: 0.1937 - accuracy: 0.9090 - val_loss: 0.2026 - val_accuracy: 0.9119\n",
      "Epoch 6/20\n",
      "2271/2271 [==============================] - 2s 938us/step - loss: 0.1914 - accuracy: 0.9103 - val_loss: 0.2165 - val_accuracy: 0.9119\n",
      "Epoch 7/20\n",
      "2271/2271 [==============================] - 2s 963us/step - loss: 0.1905 - accuracy: 0.9102 - val_loss: 0.2061 - val_accuracy: 0.9128\n",
      "Epoch 8/20\n",
      "2271/2271 [==============================] - 2s 1ms/step - loss: 0.1903 - accuracy: 0.9109 - val_loss: 0.2039 - val_accuracy: 0.9106\n",
      "Epoch 9/20\n",
      "2271/2271 [==============================] - 2s 1ms/step - loss: 0.1893 - accuracy: 0.9116 - val_loss: 0.2404 - val_accuracy: 0.9114\n",
      "Epoch 10/20\n",
      "2271/2271 [==============================] - 2s 923us/step - loss: 0.1894 - accuracy: 0.9106 - val_loss: 0.2697 - val_accuracy: 0.9118\n",
      "Epoch 11/20\n",
      "2271/2271 [==============================] - 2s 994us/step - loss: 0.1890 - accuracy: 0.9117 - val_loss: 0.2249 - val_accuracy: 0.9129\n",
      "Epoch 12/20\n",
      "2271/2271 [==============================] - 3s 1ms/step - loss: 0.1896 - accuracy: 0.9110 - val_loss: 0.2756 - val_accuracy: 0.9117\n",
      "Epoch 13/20\n",
      "2271/2271 [==============================] - 2s 1ms/step - loss: 0.1882 - accuracy: 0.9119 - val_loss: 0.2116 - val_accuracy: 0.9115\n",
      "Epoch 14/20\n",
      "2271/2271 [==============================] - 2s 966us/step - loss: 0.1885 - accuracy: 0.9118 - val_loss: 0.2116 - val_accuracy: 0.9123\n",
      "Epoch 15/20\n",
      "2271/2271 [==============================] - 2s 1ms/step - loss: 0.1881 - accuracy: 0.9127 - val_loss: 0.2034 - val_accuracy: 0.9105\n",
      "Epoch 16/20\n",
      "2271/2271 [==============================] - 3s 1ms/step - loss: 0.1875 - accuracy: 0.9123 - val_loss: 0.3130 - val_accuracy: 0.9095\n",
      "Epoch 17/20\n",
      "2271/2271 [==============================] - 2s 988us/step - loss: 0.1877 - accuracy: 0.9118 - val_loss: 0.3343 - val_accuracy: 0.9128\n",
      "Epoch 18/20\n",
      "2271/2271 [==============================] - 2s 977us/step - loss: 0.1878 - accuracy: 0.9120 - val_loss: 0.3372 - val_accuracy: 0.9126\n",
      "Epoch 19/20\n",
      "2271/2271 [==============================] - 2s 968us/step - loss: 0.1879 - accuracy: 0.9124 - val_loss: 0.2661 - val_accuracy: 0.9119\n",
      "Epoch 20/20\n",
      "2271/2271 [==============================] - 2s 1ms/step - loss: 0.1884 - accuracy: 0.9121 - val_loss: 0.2760 - val_accuracy: 0.9118\n"
     ]
    },
    {
     "data": {
      "text/plain": [
       "<keras.callbacks.History at 0x2759ea6a280>"
      ]
     },
     "execution_count": 103,
     "metadata": {},
     "output_type": "execute_result"
    }
   ],
   "source": [
    "model.fit(train_X, train_Y, epochs=20, validation_data=(test_X, test_Y))"
   ]
  },
  {
   "cell_type": "code",
   "execution_count": null,
   "id": "603b8b4d-f280-43a0-a8b9-9215e68a7e39",
   "metadata": {},
   "outputs": [],
   "source": []
  },
  {
   "cell_type": "code",
   "execution_count": null,
   "id": "3d582ce1-ef4f-4fd5-9456-e8a776459dc0",
   "metadata": {},
   "outputs": [],
   "source": []
  },
  {
   "cell_type": "code",
   "execution_count": null,
   "id": "b60ef972-de17-4ebb-9658-f8ccaf2202c2",
   "metadata": {},
   "outputs": [],
   "source": []
  }
 ],
 "metadata": {
  "kernelspec": {
   "display_name": "Python 3 (ipykernel)",
   "language": "python",
   "name": "python3"
  },
  "language_info": {
   "codemirror_mode": {
    "name": "ipython",
    "version": 3
   },
   "file_extension": ".py",
   "mimetype": "text/x-python",
   "name": "python",
   "nbconvert_exporter": "python",
   "pygments_lexer": "ipython3",
   "version": "3.9.12"
  }
 },
 "nbformat": 4,
 "nbformat_minor": 5
}
