{
 "cells": [
  {
   "cell_type": "code",
   "execution_count": 125,
   "metadata": {
    "id": "ycElwFj_RBys"
   },
   "outputs": [],
   "source": [
    "import numpy as np\n",
    "import matplotlib.pyplot as plt\n",
    "from matplotlib.colors import ListedColormap\n",
    "\n",
    "from tensorflow.keras.models import Sequential\n",
    "from tensorflow.keras.layers import Dense\n",
    "import tensorflow as tf\n",
    "import random as python_random"
   ]
  },
  {
   "cell_type": "code",
   "execution_count": 126,
   "metadata": {},
   "outputs": [],
   "source": [
    "from tensorflow import keras \n",
    "from tensorflow.keras.utils import plot_model"
   ]
  },
  {
   "cell_type": "markdown",
   "metadata": {},
   "source": [
    "# Домашнее задание"
   ]
  },
  {
   "cell_type": "markdown",
   "metadata": {
    "id": "M72ajz7tRQuN"
   },
   "source": [
    "# Датасет с винами"
   ]
  },
  {
   "cell_type": "markdown",
   "metadata": {
    "id": "089ZkMffRYu6"
   },
   "source": [
    "https://scikit-learn.org/stable/modules/generated/sklearn.datasets.load_wine.html#sklearn.datasets.load_wine"
   ]
  },
  {
   "cell_type": "code",
   "execution_count": 171,
   "metadata": {
    "id": "SkW0cWmmQWEv"
   },
   "outputs": [],
   "source": [
    "from sklearn.datasets import load_wine\n",
    "from sklearn.model_selection import train_test_split"
   ]
  },
  {
   "cell_type": "code",
   "execution_count": 172,
   "metadata": {
    "id": "yXhssEenSe8S"
   },
   "outputs": [],
   "source": [
    "data = load_wine()"
   ]
  },
  {
   "cell_type": "code",
   "execution_count": 173,
   "metadata": {
    "id": "DTyfGtPIRjbP"
   },
   "outputs": [
    {
     "data": {
      "text/plain": [
       "['class_0', 'class_1', 'class_2']"
      ]
     },
     "execution_count": 173,
     "metadata": {},
     "output_type": "execute_result"
    }
   ],
   "source": [
    "list(data.target_names)"
   ]
  },
  {
   "cell_type": "code",
   "execution_count": 174,
   "metadata": {
    "id": "tvnxIsLpRQGC"
   },
   "outputs": [
    {
     "data": {
      "text/plain": [
       "['alcohol',\n",
       " 'malic_acid',\n",
       " 'ash',\n",
       " 'alcalinity_of_ash',\n",
       " 'magnesium',\n",
       " 'total_phenols',\n",
       " 'flavanoids',\n",
       " 'nonflavanoid_phenols',\n",
       " 'proanthocyanins',\n",
       " 'color_intensity',\n",
       " 'hue',\n",
       " 'od280/od315_of_diluted_wines',\n",
       " 'proline']"
      ]
     },
     "execution_count": 174,
     "metadata": {},
     "output_type": "execute_result"
    }
   ],
   "source": [
    "data.feature_names"
   ]
  },
  {
   "cell_type": "code",
   "execution_count": 175,
   "metadata": {
    "id": "F6E3WMc2Rl0y"
   },
   "outputs": [
    {
     "data": {
      "text/plain": [
       "((178, 13), (178,))"
      ]
     },
     "execution_count": 175,
     "metadata": {},
     "output_type": "execute_result"
    }
   ],
   "source": [
    "data.data.shape, data.target.shape"
   ]
  },
  {
   "cell_type": "code",
   "execution_count": 176,
   "metadata": {
    "id": "YZqtD7GFRsnQ"
   },
   "outputs": [],
   "source": [
    "X_train, X_test, y_train, y_test = train_test_split(data.data, data.target, test_size=0.25, shuffle=True, random_state=0)"
   ]
  },
  {
   "cell_type": "code",
   "execution_count": 177,
   "metadata": {
    "id": "ZI_B1C6FSYFu"
   },
   "outputs": [
    {
     "data": {
      "text/plain": [
       "((133, 13), (45, 13), (133,), (45,))"
      ]
     },
     "execution_count": 177,
     "metadata": {},
     "output_type": "execute_result"
    }
   ],
   "source": [
    "X_train.shape, X_test.shape, y_train.shape, y_test.shape"
   ]
  },
  {
   "cell_type": "code",
   "execution_count": 178,
   "metadata": {},
   "outputs": [
    {
     "data": {
      "text/plain": [
       "'/Users/anna/miniforge3/envs/tf_m1/bin/python'"
      ]
     },
     "execution_count": 178,
     "metadata": {},
     "output_type": "execute_result"
    }
   ],
   "source": [
    "import sys\n",
    "sys.executable"
   ]
  },
  {
   "cell_type": "code",
   "execution_count": 179,
   "metadata": {},
   "outputs": [],
   "source": [
    "model = keras.Sequential([\n",
    "    keras.layers.Dense(128, activation='relu', \n",
    "                       kernel_regularizer=tf.keras.regularizers.L2(l2=100),\n",
    "                       bias_regularizer=tf.keras.regularizers.L2(l2=0.5)),\n",
    "    keras.layers.Dropout(0.1),\n",
    "    keras.layers.BatchNormalization(),\n",
    "    keras.layers.Dense(64, activation='relu'),\n",
    "    keras.layers.BatchNormalization(),\n",
    "    keras.layers.Dense(10)\n",
    "])"
   ]
  },
  {
   "cell_type": "code",
   "execution_count": 180,
   "metadata": {},
   "outputs": [],
   "source": [
    "boundaries = [2000, 4000]\n",
    "values = [0.01, 0.005, 0.001]\n",
    "lr_schedule = keras.optimizers.schedules.PiecewiseConstantDecay(boundaries, values)\n",
    "optimizer = keras.optimizers.SGD(learning_rate=lr_schedule)\n",
    "\n",
    "model.compile(optimizer=tf.keras.optimizers.Adam(learning_rate=lr_schedule),\n",
    "              loss=tf.keras.losses.SparseCategoricalCrossentropy(from_logits=True),\n",
    "              metrics=['accuracy'])"
   ]
  },
  {
   "cell_type": "code",
   "execution_count": 187,
   "metadata": {},
   "outputs": [],
   "source": [
    "import pandas as pd"
   ]
  },
  {
   "cell_type": "code",
   "execution_count": 188,
   "metadata": {},
   "outputs": [
    {
     "name": "stdout",
     "output_type": "stream",
     "text": [
      "2/2 [==============================] - 0s 952us/step - loss: 76165.4141 - accuracy: 0.5333\n",
      "2/2 [==============================] - 0s 919us/step - loss: 78398.6562 - accuracy: 0.4444\n",
      "2/2 [==============================] - 0s 930us/step - loss: 79354.5703 - accuracy: 0.5333\n",
      "2/2 [==============================] - 0s 1ms/step - loss: 85252.2500 - accuracy: 0.8889\n"
     ]
    },
    {
     "name": "stderr",
     "output_type": "stream",
     "text": [
      "/var/folders/9q/dsjswm2x2q9_rxvxgvcvbqk00000gn/T/ipykernel_94744/2918867566.py:14: FutureWarning: The frame.append method is deprecated and will be removed from pandas in a future version. Use pandas.concat instead.\n",
      "  res_df = res_df.append({'epochs' : ep,'batch_size' : b,'accuracy' : acc[1]}, ignore_index=True)\n",
      "/var/folders/9q/dsjswm2x2q9_rxvxgvcvbqk00000gn/T/ipykernel_94744/2918867566.py:14: FutureWarning: The frame.append method is deprecated and will be removed from pandas in a future version. Use pandas.concat instead.\n",
      "  res_df = res_df.append({'epochs' : ep,'batch_size' : b,'accuracy' : acc[1]}, ignore_index=True)\n",
      "/var/folders/9q/dsjswm2x2q9_rxvxgvcvbqk00000gn/T/ipykernel_94744/2918867566.py:14: FutureWarning: The frame.append method is deprecated and will be removed from pandas in a future version. Use pandas.concat instead.\n",
      "  res_df = res_df.append({'epochs' : ep,'batch_size' : b,'accuracy' : acc[1]}, ignore_index=True)\n",
      "/var/folders/9q/dsjswm2x2q9_rxvxgvcvbqk00000gn/T/ipykernel_94744/2918867566.py:14: FutureWarning: The frame.append method is deprecated and will be removed from pandas in a future version. Use pandas.concat instead.\n",
      "  res_df = res_df.append({'epochs' : ep,'batch_size' : b,'accuracy' : acc[1]}, ignore_index=True)\n"
     ]
    },
    {
     "name": "stdout",
     "output_type": "stream",
     "text": [
      "2/2 [==============================] - 0s 1ms/step - loss: 88005.2031 - accuracy: 0.5111\n",
      "2/2 [==============================] - 0s 931us/step - loss: 89377.9297 - accuracy: 0.6444\n",
      "2/2 [==============================] - 0s 966us/step - loss: 98753.1875 - accuracy: 0.8667\n"
     ]
    },
    {
     "name": "stderr",
     "output_type": "stream",
     "text": [
      "/var/folders/9q/dsjswm2x2q9_rxvxgvcvbqk00000gn/T/ipykernel_94744/2918867566.py:14: FutureWarning: The frame.append method is deprecated and will be removed from pandas in a future version. Use pandas.concat instead.\n",
      "  res_df = res_df.append({'epochs' : ep,'batch_size' : b,'accuracy' : acc[1]}, ignore_index=True)\n",
      "/var/folders/9q/dsjswm2x2q9_rxvxgvcvbqk00000gn/T/ipykernel_94744/2918867566.py:14: FutureWarning: The frame.append method is deprecated and will be removed from pandas in a future version. Use pandas.concat instead.\n",
      "  res_df = res_df.append({'epochs' : ep,'batch_size' : b,'accuracy' : acc[1]}, ignore_index=True)\n",
      "/var/folders/9q/dsjswm2x2q9_rxvxgvcvbqk00000gn/T/ipykernel_94744/2918867566.py:14: FutureWarning: The frame.append method is deprecated and will be removed from pandas in a future version. Use pandas.concat instead.\n",
      "  res_df = res_df.append({'epochs' : ep,'batch_size' : b,'accuracy' : acc[1]}, ignore_index=True)\n"
     ]
    },
    {
     "name": "stdout",
     "output_type": "stream",
     "text": [
      "2/2 [==============================] - 0s 892us/step - loss: 102263.0234 - accuracy: 0.9556\n",
      "2/2 [==============================] - 0s 1ms/step - loss: 104553.5547 - accuracy: 0.7556\n",
      "2/2 [==============================] - 0s 1ms/step - loss: 120384.3906 - accuracy: 0.6222\n"
     ]
    },
    {
     "name": "stderr",
     "output_type": "stream",
     "text": [
      "/var/folders/9q/dsjswm2x2q9_rxvxgvcvbqk00000gn/T/ipykernel_94744/2918867566.py:14: FutureWarning: The frame.append method is deprecated and will be removed from pandas in a future version. Use pandas.concat instead.\n",
      "  res_df = res_df.append({'epochs' : ep,'batch_size' : b,'accuracy' : acc[1]}, ignore_index=True)\n",
      "/var/folders/9q/dsjswm2x2q9_rxvxgvcvbqk00000gn/T/ipykernel_94744/2918867566.py:14: FutureWarning: The frame.append method is deprecated and will be removed from pandas in a future version. Use pandas.concat instead.\n",
      "  res_df = res_df.append({'epochs' : ep,'batch_size' : b,'accuracy' : acc[1]}, ignore_index=True)\n",
      "/var/folders/9q/dsjswm2x2q9_rxvxgvcvbqk00000gn/T/ipykernel_94744/2918867566.py:14: FutureWarning: The frame.append method is deprecated and will be removed from pandas in a future version. Use pandas.concat instead.\n",
      "  res_df = res_df.append({'epochs' : ep,'batch_size' : b,'accuracy' : acc[1]}, ignore_index=True)\n"
     ]
    },
    {
     "name": "stdout",
     "output_type": "stream",
     "text": [
      "2/2 [==============================] - 0s 999us/step - loss: 124915.8750 - accuracy: 0.9556\n",
      "2/2 [==============================] - 0s 898us/step - loss: 126645.5312 - accuracy: 0.9111\n"
     ]
    },
    {
     "name": "stderr",
     "output_type": "stream",
     "text": [
      "/var/folders/9q/dsjswm2x2q9_rxvxgvcvbqk00000gn/T/ipykernel_94744/2918867566.py:14: FutureWarning: The frame.append method is deprecated and will be removed from pandas in a future version. Use pandas.concat instead.\n",
      "  res_df = res_df.append({'epochs' : ep,'batch_size' : b,'accuracy' : acc[1]}, ignore_index=True)\n",
      "/var/folders/9q/dsjswm2x2q9_rxvxgvcvbqk00000gn/T/ipykernel_94744/2918867566.py:14: FutureWarning: The frame.append method is deprecated and will be removed from pandas in a future version. Use pandas.concat instead.\n",
      "  res_df = res_df.append({'epochs' : ep,'batch_size' : b,'accuracy' : acc[1]}, ignore_index=True)\n"
     ]
    }
   ],
   "source": [
    "list_epochs = [3, 5, 7, 10]\n",
    "list_batch_size = [10, 32, 64]\n",
    "\n",
    "res_df = pd.DataFrame(columns=['epochs', 'batch_size','accuracy'])\n",
    "\n",
    "for ep in list_epochs:\n",
    "    for b in list_batch_size:\n",
    "        model.fit(X_train, y_train, \n",
    "          epochs=ep, \n",
    "          batch_size=b, \n",
    "          verbose=0)\n",
    "        acc = model.evaluate(\n",
    "          X_test, y_test)\n",
    "        res_df = res_df.append({'epochs' : ep,'batch_size' : b,'accuracy' : acc[1]}, ignore_index=True)"
   ]
  },
  {
   "cell_type": "code",
   "execution_count": 189,
   "metadata": {},
   "outputs": [
    {
     "data": {
      "text/html": [
       "<div>\n",
       "<style scoped>\n",
       "    .dataframe tbody tr th:only-of-type {\n",
       "        vertical-align: middle;\n",
       "    }\n",
       "\n",
       "    .dataframe tbody tr th {\n",
       "        vertical-align: top;\n",
       "    }\n",
       "\n",
       "    .dataframe thead th {\n",
       "        text-align: right;\n",
       "    }\n",
       "</style>\n",
       "<table border=\"1\" class=\"dataframe\">\n",
       "  <thead>\n",
       "    <tr style=\"text-align: right;\">\n",
       "      <th></th>\n",
       "      <th>epochs</th>\n",
       "      <th>batch_size</th>\n",
       "      <th>accuracy</th>\n",
       "    </tr>\n",
       "  </thead>\n",
       "  <tbody>\n",
       "    <tr>\n",
       "      <th>7</th>\n",
       "      <td>7.0</td>\n",
       "      <td>32.0</td>\n",
       "      <td>0.955556</td>\n",
       "    </tr>\n",
       "    <tr>\n",
       "      <th>10</th>\n",
       "      <td>10.0</td>\n",
       "      <td>32.0</td>\n",
       "      <td>0.955556</td>\n",
       "    </tr>\n",
       "    <tr>\n",
       "      <th>11</th>\n",
       "      <td>10.0</td>\n",
       "      <td>64.0</td>\n",
       "      <td>0.911111</td>\n",
       "    </tr>\n",
       "    <tr>\n",
       "      <th>3</th>\n",
       "      <td>5.0</td>\n",
       "      <td>10.0</td>\n",
       "      <td>0.888889</td>\n",
       "    </tr>\n",
       "    <tr>\n",
       "      <th>6</th>\n",
       "      <td>7.0</td>\n",
       "      <td>10.0</td>\n",
       "      <td>0.866667</td>\n",
       "    </tr>\n",
       "    <tr>\n",
       "      <th>8</th>\n",
       "      <td>7.0</td>\n",
       "      <td>64.0</td>\n",
       "      <td>0.755556</td>\n",
       "    </tr>\n",
       "    <tr>\n",
       "      <th>5</th>\n",
       "      <td>5.0</td>\n",
       "      <td>64.0</td>\n",
       "      <td>0.644444</td>\n",
       "    </tr>\n",
       "    <tr>\n",
       "      <th>9</th>\n",
       "      <td>10.0</td>\n",
       "      <td>10.0</td>\n",
       "      <td>0.622222</td>\n",
       "    </tr>\n",
       "    <tr>\n",
       "      <th>0</th>\n",
       "      <td>3.0</td>\n",
       "      <td>10.0</td>\n",
       "      <td>0.533333</td>\n",
       "    </tr>\n",
       "    <tr>\n",
       "      <th>2</th>\n",
       "      <td>3.0</td>\n",
       "      <td>64.0</td>\n",
       "      <td>0.533333</td>\n",
       "    </tr>\n",
       "    <tr>\n",
       "      <th>4</th>\n",
       "      <td>5.0</td>\n",
       "      <td>32.0</td>\n",
       "      <td>0.511111</td>\n",
       "    </tr>\n",
       "    <tr>\n",
       "      <th>1</th>\n",
       "      <td>3.0</td>\n",
       "      <td>32.0</td>\n",
       "      <td>0.444444</td>\n",
       "    </tr>\n",
       "  </tbody>\n",
       "</table>\n",
       "</div>"
      ],
      "text/plain": [
       "    epochs  batch_size  accuracy\n",
       "7      7.0        32.0  0.955556\n",
       "10    10.0        32.0  0.955556\n",
       "11    10.0        64.0  0.911111\n",
       "3      5.0        10.0  0.888889\n",
       "6      7.0        10.0  0.866667\n",
       "8      7.0        64.0  0.755556\n",
       "5      5.0        64.0  0.644444\n",
       "9     10.0        10.0  0.622222\n",
       "0      3.0        10.0  0.533333\n",
       "2      3.0        64.0  0.533333\n",
       "4      5.0        32.0  0.511111\n",
       "1      3.0        32.0  0.444444"
      ]
     },
     "execution_count": 189,
     "metadata": {},
     "output_type": "execute_result"
    }
   ],
   "source": [
    "res_df.sort_values('accuracy', ascending=False)"
   ]
  },
  {
   "cell_type": "code",
   "execution_count": 199,
   "metadata": {},
   "outputs": [
    {
     "name": "stdout",
     "output_type": "stream",
     "text": [
      "Epoch 1/7\n",
      "5/5 - 0s - loss: 134873.5625 - accuracy: 0.8872\n",
      "Epoch 2/7\n",
      "5/5 - 0s - loss: 135405.0312 - accuracy: 0.9248\n",
      "Epoch 3/7\n",
      "5/5 - 0s - loss: 135893.0781 - accuracy: 0.8571\n",
      "Epoch 4/7\n",
      "5/5 - 0s - loss: 136375.2812 - accuracy: 0.9248\n",
      "Epoch 5/7\n",
      "5/5 - 0s - loss: 136780.3594 - accuracy: 0.8797\n",
      "Epoch 6/7\n",
      "5/5 - 0s - loss: 137132.7969 - accuracy: 0.9023\n",
      "Epoch 7/7\n",
      "5/5 - 0s - loss: 137501.7969 - accuracy: 0.9248\n"
     ]
    }
   ],
   "source": [
    "hstr = model.fit(X_train, y_train, epochs=7, batch_size=32, verbose=2)"
   ]
  },
  {
   "cell_type": "code",
   "execution_count": 200,
   "metadata": {},
   "outputs": [
    {
     "data": {
      "text/plain": [
       "array([[ 3.3438513 ,  3.339754  , -0.61855525, -4.9703083 , -5.082704  ,\n",
       "        -4.6774545 , -5.2536006 , -5.6767774 , -5.135129  , -5.283929  ],\n",
       "       [-2.0824082 ,  1.8363421 ,  6.6157413 , -4.1831927 , -5.0082326 ,\n",
       "        -6.5977206 , -4.943418  , -5.4920936 , -4.873828  , -5.9763813 ],\n",
       "       [ 1.0392511 ,  5.9805646 ,  0.5030824 , -5.531269  , -5.171687  ,\n",
       "        -5.4656982 , -5.660286  , -4.964579  , -5.1516    , -4.338662  ],\n",
       "       [ 3.286564  ,  3.3844771 , -0.6984693 , -5.025079  , -5.159807  ,\n",
       "        -4.679719  , -5.42554   , -5.8555837 , -5.2069283 , -5.4579506 ],\n",
       "       [ 0.67299294,  5.961289  ,  1.4818394 , -5.7155256 , -5.4675303 ,\n",
       "        -5.848362  , -6.026838  , -5.2416515 , -5.4677916 , -4.8072443 ],\n",
       "       [ 1.4798338 ,  5.367362  , -0.04814194, -5.142679  , -4.8995776 ,\n",
       "        -5.297523  , -5.3643746 , -4.764185  , -4.9521494 , -4.114364  ],\n",
       "       [ 3.8811696 ,  3.7068882 , -1.7726525 , -5.033123  , -5.238306  ,\n",
       "        -4.3797607 , -5.6907043 , -6.272756  , -5.3067646 , -5.621508  ],\n",
       "       [-0.47661868,  2.9123979 ,  5.896961  , -4.855501  , -5.638882  ,\n",
       "        -6.3579893 , -5.6600347 , -5.9294195 , -5.7228746 , -6.115206  ],\n",
       "       [ 1.3268405 ,  5.293395  ,  0.91364217, -5.3377485 , -5.0613256 ,\n",
       "        -5.2815685 , -5.383199  , -5.033458  , -5.0773973 , -4.4574313 ],\n",
       "       [ 0.9401685 ,  5.368411  ,  1.6045315 , -5.463336  , -5.33536   ,\n",
       "        -5.5553093 , -5.670539  , -5.2225275 , -5.335948  , -4.8322515 ],\n",
       "       [ 1.370981  ,  2.4300938 ,  3.227046  , -4.661311  , -4.9678164 ,\n",
       "        -5.386217  , -4.9706607 , -5.439932  , -5.0661583 , -5.5794554 ],\n",
       "       [-1.4088378 ,  3.7839785 ,  5.916349  , -4.979329  , -5.8727336 ,\n",
       "        -6.1923275 , -5.745695  , -5.7604094 , -5.651019  , -6.056219  ],\n",
       "       [ 4.5171413 ,  3.2403648 , -2.4432836 , -4.529376  , -4.7622967 ,\n",
       "        -3.6808038 , -5.3412614 , -5.877472  , -5.088871  , -5.5860243 ],\n",
       "       [ 2.3554995 ,  4.5634527 , -0.7725118 , -4.960886  , -4.5032816 ,\n",
       "        -4.70261   , -4.756572  , -4.718094  , -4.533786  , -3.9785793 ],\n",
       "       [ 0.12832782,  1.772532  ,  4.6695404 , -4.5874033 , -4.9141316 ,\n",
       "        -6.0912504 , -5.062524  , -5.5141587 , -4.883566  , -5.930867  ],\n",
       "       [-0.05881116,  7.179171  ,  0.25881803, -5.9485855 , -5.545876  ,\n",
       "        -5.840106  , -6.1809535 , -4.89996   , -5.196679  , -4.558324  ],\n",
       "       [ 3.1627972 ,  3.8718672 , -1.1883402 , -5.361559  , -5.613974  ,\n",
       "        -4.95346   , -6.0570197 , -6.7211194 , -5.5402775 , -5.9269953 ],\n",
       "       [ 5.0535817 ,  3.3490767 , -3.3442535 , -4.5830626 , -5.1537642 ,\n",
       "        -3.6173124 , -5.912788  , -6.4252315 , -5.5912905 , -6.1645236 ],\n",
       "       [ 0.08930677,  4.3002644 ,  4.204227  , -5.2697315 , -5.8519635 ,\n",
       "        -6.20814   , -5.891575  , -5.749343  , -5.804926  , -5.7056093 ],\n",
       "       [ 4.2499375 ,  2.705296  , -2.0544443 , -4.0164127 , -3.941549  ,\n",
       "        -3.4192252 , -4.329915  , -4.75732   , -4.316914  , -4.699752  ],\n",
       "       [ 1.564207  ,  5.501405  ,  0.1673534 , -5.349662  , -4.846278  ,\n",
       "        -5.121911  , -5.2255545 , -4.8575325 , -4.860441  , -4.061058  ],\n",
       "       [ 3.5427089 ,  2.7422328 , -0.82419205, -4.3448296 , -4.350321  ,\n",
       "        -4.0564556 , -4.53052   , -4.8521442 , -4.5728035 , -4.895397  ],\n",
       "       [ 2.298144  ,  3.8021111 ,  0.05757244, -4.8532085 , -4.8173532 ,\n",
       "        -5.097609  , -5.034233  , -5.081714  , -4.9439516 , -4.7479744 ],\n",
       "       [ 2.1737788 ,  4.4523053 , -0.3340742 , -4.938922  , -4.613071  ,\n",
       "        -4.802548  , -4.8500834 , -4.837934  , -4.6476936 , -4.216082  ],\n",
       "       [ 1.6222869 ,  3.618634  ,  1.861894  , -4.888277  , -5.141582  ,\n",
       "        -5.3753595 , -5.1108174 , -5.3047266 , -5.19386   , -5.1343555 ],\n",
       "       [ 0.14125237,  6.580972  ,  0.98281574, -5.8061094 , -5.590629  ,\n",
       "        -5.8796735 , -6.1116323 , -5.0742726 , -5.330634  , -4.774094  ],\n",
       "       [ 0.42963865,  6.360573  ,  1.0807354 , -5.8313    , -5.5481496 ,\n",
       "        -5.8689446 , -6.1198196 , -5.186823  , -5.4234324 , -4.793341  ],\n",
       "       [ 1.0640291 ,  5.2463064 ,  1.3462238 , -5.3440647 , -5.3132176 ,\n",
       "        -5.49562   , -5.5913577 , -5.1462727 , -5.287822  , -4.745063  ],\n",
       "       [ 1.4992123 ,  4.1231155 ,  1.6031084 , -5.0070963 , -5.0864058 ,\n",
       "        -5.407146  , -5.2506905 , -5.1972823 , -5.179796  , -4.901454  ],\n",
       "       [-0.34228042,  1.9860992 ,  6.001879  , -4.5672274 , -5.103781  ,\n",
       "        -6.331913  , -5.308451  , -5.767019  , -5.3175335 , -6.022232  ],\n",
       "       [ 4.007609  ,  2.5187283 , -1.5992807 , -3.9732144 , -3.8908496 ,\n",
       "        -3.5287247 , -4.172463  , -4.5784388 , -4.196784  , -4.573915  ],\n",
       "       [ 3.2019799 ,  3.4242775 , -0.58140445, -4.9213486 , -4.9682317 ,\n",
       "        -4.7835546 , -5.1169624 , -5.414846  , -5.039836  , -5.0793276 ],\n",
       "       [ 1.2561942 ,  4.468154  ,  1.9410055 , -5.2246866 , -5.206383  ,\n",
       "        -5.4401493 , -5.379214  , -5.2709107 , -5.259074  , -4.985969  ],\n",
       "       [ 3.2181606 ,  3.0652413 , -0.19893704, -4.9120026 , -5.0291634 ,\n",
       "        -4.687202  , -5.2249103 , -5.7043786 , -5.101961  , -5.4020042 ],\n",
       "       [ 3.7502596 ,  2.745933  , -1.3513029 , -4.119957  , -3.9208856 ,\n",
       "        -3.9108539 , -4.1964145 , -4.454625  , -4.2056274 , -4.384308  ],\n",
       "       [ 3.292014  ,  3.3824706 , -1.0530323 , -4.5819225 , -4.34651   ,\n",
       "        -4.4838753 , -4.571575  , -4.662247  , -4.58988   , -4.4618144 ],\n",
       "       [ 0.24608353,  2.3281488 ,  4.375114  , -4.6645994 , -5.0537214 ,\n",
       "        -5.942314  , -5.198156  , -5.5788603 , -5.0935802 , -5.718632  ],\n",
       "       [ 0.8599169 ,  5.0662546 ,  2.2095087 , -5.428072  , -5.46324   ,\n",
       "        -5.6489677 , -5.7168813 , -5.3708086 , -5.4779873 , -5.0725474 ],\n",
       "       [ 0.45299572,  6.299882  ,  1.0270225 , -5.690076  , -5.5355253 ,\n",
       "        -5.8372016 , -6.0059085 , -5.0909076 , -5.3537865 , -4.6925716 ],\n",
       "       [ 0.32925227,  1.8641645 ,  4.567702  , -4.6115904 , -4.9565253 ,\n",
       "        -6.0054626 , -5.0605445 , -5.519889  , -4.9475965 , -5.904838  ],\n",
       "       [ 3.3257282 ,  3.7294672 , -1.7219089 , -4.5687213 , -4.102528  ,\n",
       "        -4.293711  , -4.4131    , -4.4496074 , -4.3214207 , -4.0103126 ],\n",
       "       [ 4.085332  ,  3.2447648 , -1.8599296 , -4.5524836 , -4.6251025 ,\n",
       "        -3.8636217 , -5.015866  , -5.4358172 , -4.8545113 , -5.1963215 ],\n",
       "       [ 0.15045425,  7.009046  ,  0.32246602, -5.900667  , -5.4778247 ,\n",
       "        -5.8198805 , -6.117253  , -4.915747  , -5.208128  , -4.50415   ],\n",
       "       [ 1.4572515 ,  4.9059544 ,  0.8830377 , -5.201133  , -5.052869  ,\n",
       "        -5.2662954 , -5.275203  , -5.057883  , -5.0594254 , -4.5624104 ],\n",
       "       [ 0.7509625 ,  5.7022653 ,  1.4314401 , -5.5877924 , -5.5119615 ,\n",
       "        -5.70415   , -5.883536  , -5.25441   , -5.4536457 , -4.8577914 ]],\n",
       "      dtype=float32)"
      ]
     },
     "execution_count": 200,
     "metadata": {},
     "output_type": "execute_result"
    }
   ],
   "source": [
    "model.predict(X_test)"
   ]
  },
  {
   "cell_type": "code",
   "execution_count": 201,
   "metadata": {},
   "outputs": [
    {
     "name": "stdout",
     "output_type": "stream",
     "text": [
      "WARNING:tensorflow:AutoGraph could not transform <function Model.make_predict_function.<locals>.predict_function at 0x1591d9550> and will run it as-is.\n",
      "Please report this to the TensorFlow team. When filing the bug, set the verbosity to 10 (on Linux, `export AUTOGRAPH_VERBOSITY=10`) and attach the full output.\n",
      "Cause: unsupported operand type(s) for -: 'NoneType' and 'int'\n",
      "To silence this warning, decorate the function with @tf.autograph.experimental.do_not_convert\n",
      "WARNING: AutoGraph could not transform <function Model.make_predict_function.<locals>.predict_function at 0x1591d9550> and will run it as-is.\n",
      "Please report this to the TensorFlow team. When filing the bug, set the verbosity to 10 (on Linux, `export AUTOGRAPH_VERBOSITY=10`) and attach the full output.\n",
      "Cause: unsupported operand type(s) for -: 'NoneType' and 'int'\n",
      "To silence this warning, decorate the function with @tf.autograph.experimental.do_not_convert\n"
     ]
    }
   ],
   "source": [
    "probability_model = tf.keras.Sequential([model, \n",
    "                                         tf.keras.layers.Softmax()])\n",
    "predictions = probability_model.predict(X_test)"
   ]
  },
  {
   "cell_type": "code",
   "execution_count": 202,
   "metadata": {},
   "outputs": [
    {
     "name": "stdout",
     "output_type": "stream",
     "text": [
      "[1.6546671e-04 8.3291847e-03 9.9144602e-01 2.0246578e-05 8.8724055e-06\n",
      " 1.8102372e-06 9.4665111e-06 5.4689408e-06 1.0148755e-05 3.3696092e-06]\n",
      "2\n",
      "2\n"
     ]
    }
   ],
   "source": [
    "print(predictions[1],\n",
    "      np.argmax(predictions[1]),\n",
    "      y_test[1],\n",
    "      sep='\\n')"
   ]
  },
  {
   "cell_type": "code",
   "execution_count": null,
   "metadata": {},
   "outputs": [],
   "source": []
  },
  {
   "cell_type": "code",
   "execution_count": null,
   "metadata": {},
   "outputs": [],
   "source": []
  }
 ],
 "metadata": {
  "accelerator": "GPU",
  "colab": {
   "collapsed_sections": [],
   "name": "Lesson 3.ipynb",
   "provenance": []
  },
  "kernelspec": {
   "display_name": "Python 3 (ipykernel)",
   "language": "python",
   "name": "python3"
  },
  "language_info": {
   "codemirror_mode": {
    "name": "ipython",
    "version": 3
   },
   "file_extension": ".py",
   "mimetype": "text/x-python",
   "name": "python",
   "nbconvert_exporter": "python",
   "pygments_lexer": "ipython3",
   "version": "3.8.13"
  }
 },
 "nbformat": 4,
 "nbformat_minor": 1
}
