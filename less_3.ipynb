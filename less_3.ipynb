{
 "cells": [
  {
   "cell_type": "code",
   "execution_count": 125,
   "metadata": {
    "id": "ycElwFj_RBys"
   },
   "outputs": [],
   "source": [
    "import numpy as np\n",
    "import matplotlib.pyplot as plt\n",
    "from matplotlib.colors import ListedColormap\n",
    "\n",
    "from tensorflow.keras.models import Sequential\n",
    "from tensorflow.keras.layers import Dense\n",
    "import tensorflow as tf\n",
    "import random as python_random"
   ]
  },
  {
   "cell_type": "code",
   "execution_count": 126,
   "metadata": {},
   "outputs": [],
   "source": [
    "from tensorflow import keras \n",
    "from tensorflow.keras.utils import plot_model"
   ]
  },
  {
   "cell_type": "markdown",
   "metadata": {},
   "source": [
    "# Домашнее задание"
   ]
  },
  {
   "cell_type": "markdown",
   "metadata": {
    "id": "M72ajz7tRQuN"
   },
   "source": [
    "# Датасет с винами"
   ]
  },
  {
   "cell_type": "markdown",
   "metadata": {
    "id": "089ZkMffRYu6"
   },
   "source": [
    "https://scikit-learn.org/stable/modules/generated/sklearn.datasets.load_wine.html#sklearn.datasets.load_wine"
   ]
  },
  {
   "cell_type": "code",
   "execution_count": 171,
   "metadata": {
    "id": "SkW0cWmmQWEv"
   },
   "outputs": [],
   "source": [
    "from sklearn.datasets import load_wine\n",
    "from sklearn.model_selection import train_test_split"
   ]
  },
  {
   "cell_type": "code",
   "execution_count": 172,
   "metadata": {
    "id": "yXhssEenSe8S"
   },
   "outputs": [],
   "source": [
    "data = load_wine()"
   ]
  },
  {
   "cell_type": "code",
   "execution_count": 173,
   "metadata": {
    "id": "DTyfGtPIRjbP"
   },
   "outputs": [
    {
     "data": {
      "text/plain": [
       "['class_0', 'class_1', 'class_2']"
      ]
     },
     "execution_count": 173,
     "metadata": {},
     "output_type": "execute_result"
    }
   ],
   "source": [
    "list(data.target_names)"
   ]
  },
  {
   "cell_type": "code",
   "execution_count": 174,
   "metadata": {
    "id": "tvnxIsLpRQGC"
   },
   "outputs": [
    {
     "data": {
      "text/plain": [
       "['alcohol',\n",
       " 'malic_acid',\n",
       " 'ash',\n",
       " 'alcalinity_of_ash',\n",
       " 'magnesium',\n",
       " 'total_phenols',\n",
       " 'flavanoids',\n",
       " 'nonflavanoid_phenols',\n",
       " 'proanthocyanins',\n",
       " 'color_intensity',\n",
       " 'hue',\n",
       " 'od280/od315_of_diluted_wines',\n",
       " 'proline']"
      ]
     },
     "execution_count": 174,
     "metadata": {},
     "output_type": "execute_result"
    }
   ],
   "source": [
    "data.feature_names"
   ]
  },
  {
   "cell_type": "code",
   "execution_count": 175,
   "metadata": {
    "id": "F6E3WMc2Rl0y"
   },
   "outputs": [
    {
     "data": {
      "text/plain": [
       "((178, 13), (178,))"
      ]
     },
     "execution_count": 175,
     "metadata": {},
     "output_type": "execute_result"
    }
   ],
   "source": [
    "data.data.shape, data.target.shape"
   ]
  },
  {
   "cell_type": "code",
   "execution_count": 176,
   "metadata": {
    "id": "YZqtD7GFRsnQ"
   },
   "outputs": [],
   "source": [
    "X_train, X_test, y_train, y_test = train_test_split(data.data, data.target, test_size=0.25, shuffle=True, random_state=0)"
   ]
  },
  {
   "cell_type": "code",
   "execution_count": 177,
   "metadata": {
    "id": "ZI_B1C6FSYFu"
   },
   "outputs": [
    {
     "data": {
      "text/plain": [
       "((133, 13), (45, 13), (133,), (45,))"
      ]
     },
     "execution_count": 177,
     "metadata": {},
     "output_type": "execute_result"
    }
   ],
   "source": [
    "X_train.shape, X_test.shape, y_train.shape, y_test.shape"
   ]
  },
  {
   "cell_type": "code",
   "execution_count": 178,
   "metadata": {},
   "outputs": [
    {
     "data": {
      "text/plain": [
       "'/Users/anna/miniforge3/envs/tf_m1/bin/python'"
      ]
     },
     "execution_count": 178,
     "metadata": {},
     "output_type": "execute_result"
    }
   ],
   "source": [
    "import sys\n",
    "sys.executable"
   ]
  },
  {
   "cell_type": "code",
   "execution_count": 179,
   "metadata": {},
   "outputs": [],
   "source": [
    "model = keras.Sequential([\n",
    "    keras.layers.Dense(128, activation='relu', \n",
    "                       kernel_regularizer=tf.keras.regularizers.L2(l2=100),\n",
    "                       bias_regularizer=tf.keras.regularizers.L2(l2=0.5)),\n",
    "    keras.layers.Dropout(0.1),\n",
    "    keras.layers.BatchNormalization(),\n",
    "    keras.layers.Dense(64, activation='relu'),\n",
    "    keras.layers.BatchNormalization(),\n",
    "    keras.layers.Dense(10)\n",
    "])"
   ]
  },
  {
   "cell_type": "code",
   "execution_count": 180,
   "metadata": {},
   "outputs": [],
   "source": [
    "boundaries = [2000, 4000]\n",
    "values = [0.01, 0.005, 0.001]\n",
    "lr_schedule = keras.optimizers.schedules.PiecewiseConstantDecay(boundaries, values)\n",
    "optimizer = keras.optimizers.SGD(learning_rate=lr_schedule)\n",
    "\n",
    "model.compile(optimizer=tf.keras.optimizers.Adam(learning_rate=lr_schedule),\n",
    "              loss=tf.keras.losses.SparseCategoricalCrossentropy(from_logits=True),\n",
    "              metrics=['accuracy'])"
   ]
  },
  {
   "cell_type": "code",
   "execution_count": 187,
   "metadata": {},
   "outputs": [],
   "source": [
    "import pandas as pd"
   ]
  },
  {
   "cell_type": "code",
   "execution_count": 188,
   "metadata": {},
   "outputs": [
    {
     "name": "stdout",
     "output_type": "stream",
     "text": [
      "2/2 [==============================] - 0s 952us/step - loss: 76165.4141 - accuracy: 0.5333\n",
      "2/2 [==============================] - 0s 919us/step - loss: 78398.6562 - accuracy: 0.4444\n",
      "2/2 [==============================] - 0s 930us/step - loss: 79354.5703 - accuracy: 0.5333\n",
      "2/2 [==============================] - 0s 1ms/step - loss: 85252.2500 - accuracy: 0.8889\n"
     ]
    },
    {
     "name": "stderr",
     "output_type": "stream",
     "text": [
      "/var/folders/9q/dsjswm2x2q9_rxvxgvcvbqk00000gn/T/ipykernel_94744/2918867566.py:14: FutureWarning: The frame.append method is deprecated and will be removed from pandas in a future version. Use pandas.concat instead.\n",
      "  res_df = res_df.append({'epochs' : ep,'batch_size' : b,'accuracy' : acc[1]}, ignore_index=True)\n",
      "/var/folders/9q/dsjswm2x2q9_rxvxgvcvbqk00000gn/T/ipykernel_94744/2918867566.py:14: FutureWarning: The frame.append method is deprecated and will be removed from pandas in a future version. Use pandas.concat instead.\n",
      "  res_df = res_df.append({'epochs' : ep,'batch_size' : b,'accuracy' : acc[1]}, ignore_index=True)\n",
      "/var/folders/9q/dsjswm2x2q9_rxvxgvcvbqk00000gn/T/ipykernel_94744/2918867566.py:14: FutureWarning: The frame.append method is deprecated and will be removed from pandas in a future version. Use pandas.concat instead.\n",
      "  res_df = res_df.append({'epochs' : ep,'batch_size' : b,'accuracy' : acc[1]}, ignore_index=True)\n",
      "/var/folders/9q/dsjswm2x2q9_rxvxgvcvbqk00000gn/T/ipykernel_94744/2918867566.py:14: FutureWarning: The frame.append method is deprecated and will be removed from pandas in a future version. Use pandas.concat instead.\n",
      "  res_df = res_df.append({'epochs' : ep,'batch_size' : b,'accuracy' : acc[1]}, ignore_index=True)\n"
     ]
    },
    {
     "name": "stdout",
     "output_type": "stream",
     "text": [
      "2/2 [==============================] - 0s 1ms/step - loss: 88005.2031 - accuracy: 0.5111\n",
      "2/2 [==============================] - 0s 931us/step - loss: 89377.9297 - accuracy: 0.6444\n",
      "2/2 [==============================] - 0s 966us/step - loss: 98753.1875 - accuracy: 0.8667\n"
     ]
    },
    {
     "name": "stderr",
     "output_type": "stream",
     "text": [
      "/var/folders/9q/dsjswm2x2q9_rxvxgvcvbqk00000gn/T/ipykernel_94744/2918867566.py:14: FutureWarning: The frame.append method is deprecated and will be removed from pandas in a future version. Use pandas.concat instead.\n",
      "  res_df = res_df.append({'epochs' : ep,'batch_size' : b,'accuracy' : acc[1]}, ignore_index=True)\n",
      "/var/folders/9q/dsjswm2x2q9_rxvxgvcvbqk00000gn/T/ipykernel_94744/2918867566.py:14: FutureWarning: The frame.append method is deprecated and will be removed from pandas in a future version. Use pandas.concat instead.\n",
      "  res_df = res_df.append({'epochs' : ep,'batch_size' : b,'accuracy' : acc[1]}, ignore_index=True)\n",
      "/var/folders/9q/dsjswm2x2q9_rxvxgvcvbqk00000gn/T/ipykernel_94744/2918867566.py:14: FutureWarning: The frame.append method is deprecated and will be removed from pandas in a future version. Use pandas.concat instead.\n",
      "  res_df = res_df.append({'epochs' : ep,'batch_size' : b,'accuracy' : acc[1]}, ignore_index=True)\n"
     ]
    },
    {
     "name": "stdout",
     "output_type": "stream",
     "text": [
      "2/2 [==============================] - 0s 892us/step - loss: 102263.0234 - accuracy: 0.9556\n",
      "2/2 [==============================] - 0s 1ms/step - loss: 104553.5547 - accuracy: 0.7556\n",
      "2/2 [==============================] - 0s 1ms/step - loss: 120384.3906 - accuracy: 0.6222\n"
     ]
    },
    {
     "name": "stderr",
     "output_type": "stream",
     "text": [
      "/var/folders/9q/dsjswm2x2q9_rxvxgvcvbqk00000gn/T/ipykernel_94744/2918867566.py:14: FutureWarning: The frame.append method is deprecated and will be removed from pandas in a future version. Use pandas.concat instead.\n",
      "  res_df = res_df.append({'epochs' : ep,'batch_size' : b,'accuracy' : acc[1]}, ignore_index=True)\n",
      "/var/folders/9q/dsjswm2x2q9_rxvxgvcvbqk00000gn/T/ipykernel_94744/2918867566.py:14: FutureWarning: The frame.append method is deprecated and will be removed from pandas in a future version. Use pandas.concat instead.\n",
      "  res_df = res_df.append({'epochs' : ep,'batch_size' : b,'accuracy' : acc[1]}, ignore_index=True)\n",
      "/var/folders/9q/dsjswm2x2q9_rxvxgvcvbqk00000gn/T/ipykernel_94744/2918867566.py:14: FutureWarning: The frame.append method is deprecated and will be removed from pandas in a future version. Use pandas.concat instead.\n",
      "  res_df = res_df.append({'epochs' : ep,'batch_size' : b,'accuracy' : acc[1]}, ignore_index=True)\n"
     ]
    },
    {
     "name": "stdout",
     "output_type": "stream",
     "text": [
      "2/2 [==============================] - 0s 999us/step - loss: 124915.8750 - accuracy: 0.9556\n",
      "2/2 [==============================] - 0s 898us/step - loss: 126645.5312 - accuracy: 0.9111\n"
     ]
    },
    {
     "name": "stderr",
     "output_type": "stream",
     "text": [
      "/var/folders/9q/dsjswm2x2q9_rxvxgvcvbqk00000gn/T/ipykernel_94744/2918867566.py:14: FutureWarning: The frame.append method is deprecated and will be removed from pandas in a future version. Use pandas.concat instead.\n",
      "  res_df = res_df.append({'epochs' : ep,'batch_size' : b,'accuracy' : acc[1]}, ignore_index=True)\n",
      "/var/folders/9q/dsjswm2x2q9_rxvxgvcvbqk00000gn/T/ipykernel_94744/2918867566.py:14: FutureWarning: The frame.append method is deprecated and will be removed from pandas in a future version. Use pandas.concat instead.\n",
      "  res_df = res_df.append({'epochs' : ep,'batch_size' : b,'accuracy' : acc[1]}, ignore_index=True)\n"
     ]
    }
   ],
   "source": [
    "list_epochs = [3, 5, 7, 10]\n",
    "list_batch_size = [10, 32, 64]\n",
    "\n",
    "res_df = pd.DataFrame(columns=['epochs', 'batch_size','accuracy'])\n",
    "\n",
    "for ep in list_epochs:\n",
    "    for b in list_batch_size:\n",
    "        model.fit(X_train, y_train, \n",
    "          epochs=ep, \n",
    "          batch_size=b, \n",
    "          verbose=0)\n",
    "        acc = model.evaluate(\n",
    "          X_test, y_test)\n",
    "        res_df = res_df.append({'epochs' : ep,'batch_size' : b,'accuracy' : acc[1]}, ignore_index=True)"
   ]
  },
  {
   "cell_type": "code",
   "execution_count": 189,
   "metadata": {},
   "outputs": [
    {
     "data": {
      "text/html": [
       "<div>\n",
       "<style scoped>\n",
       "    .dataframe tbody tr th:only-of-type {\n",
       "        vertical-align: middle;\n",
       "    }\n",
       "\n",
       "    .dataframe tbody tr th {\n",
       "        vertical-align: top;\n",
       "    }\n",
       "\n",
       "    .dataframe thead th {\n",
       "        text-align: right;\n",
       "    }\n",
       "</style>\n",
       "<table border=\"1\" class=\"dataframe\">\n",
       "  <thead>\n",
       "    <tr style=\"text-align: right;\">\n",
       "      <th></th>\n",
       "      <th>epochs</th>\n",
       "      <th>batch_size</th>\n",
       "      <th>accuracy</th>\n",
       "    </tr>\n",
       "  </thead>\n",
       "  <tbody>\n",
       "    <tr>\n",
       "      <th>7</th>\n",
       "      <td>7.0</td>\n",
       "      <td>32.0</td>\n",
       "      <td>0.955556</td>\n",
       "    </tr>\n",
       "    <tr>\n",
       "      <th>10</th>\n",
       "      <td>10.0</td>\n",
       "      <td>32.0</td>\n",
       "      <td>0.955556</td>\n",
       "    </tr>\n",
       "    <tr>\n",
       "      <th>11</th>\n",
       "      <td>10.0</td>\n",
       "      <td>64.0</td>\n",
       "      <td>0.911111</td>\n",
       "    </tr>\n",
       "    <tr>\n",
       "      <th>3</th>\n",
       "      <td>5.0</td>\n",
       "      <td>10.0</td>\n",
       "      <td>0.888889</td>\n",
       "    </tr>\n",
       "    <tr>\n",
       "      <th>6</th>\n",
       "      <td>7.0</td>\n",
       "      <td>10.0</td>\n",
       "      <td>0.866667</td>\n",
       "    </tr>\n",
       "    <tr>\n",
       "      <th>8</th>\n",
       "      <td>7.0</td>\n",
       "      <td>64.0</td>\n",
       "      <td>0.755556</td>\n",
       "    </tr>\n",
       "    <tr>\n",
       "      <th>5</th>\n",
       "      <td>5.0</td>\n",
       "      <td>64.0</td>\n",
       "      <td>0.644444</td>\n",
       "    </tr>\n",
       "    <tr>\n",
       "      <th>9</th>\n",
       "      <td>10.0</td>\n",
       "      <td>10.0</td>\n",
       "      <td>0.622222</td>\n",
       "    </tr>\n",
       "    <tr>\n",
       "      <th>0</th>\n",
       "      <td>3.0</td>\n",
       "      <td>10.0</td>\n",
       "      <td>0.533333</td>\n",
       "    </tr>\n",
       "    <tr>\n",
       "      <th>2</th>\n",
       "      <td>3.0</td>\n",
       "      <td>64.0</td>\n",
       "      <td>0.533333</td>\n",
       "    </tr>\n",
       "    <tr>\n",
       "      <th>4</th>\n",
       "      <td>5.0</td>\n",
       "      <td>32.0</td>\n",
       "      <td>0.511111</td>\n",
       "    </tr>\n",
       "    <tr>\n",
       "      <th>1</th>\n",
       "      <td>3.0</td>\n",
       "      <td>32.0</td>\n",
       "      <td>0.444444</td>\n",
       "    </tr>\n",
       "  </tbody>\n",
       "</table>\n",
       "</div>"
      ],
      "text/plain": [
       "    epochs  batch_size  accuracy\n",
       "7      7.0        32.0  0.955556\n",
       "10    10.0        32.0  0.955556\n",
       "11    10.0        64.0  0.911111\n",
       "3      5.0        10.0  0.888889\n",
       "6      7.0        10.0  0.866667\n",
       "8      7.0        64.0  0.755556\n",
       "5      5.0        64.0  0.644444\n",
       "9     10.0        10.0  0.622222\n",
       "0      3.0        10.0  0.533333\n",
       "2      3.0        64.0  0.533333\n",
       "4      5.0        32.0  0.511111\n",
       "1      3.0        32.0  0.444444"
      ]
     },
     "execution_count": 189,
     "metadata": {},
     "output_type": "execute_result"
    }
   ],
   "source": [
    "res_df.sort_values('accuracy', ascending=False)"
   ]
  },
  {
   "cell_type": "code",
   "execution_count": 195,
   "metadata": {},
   "outputs": [
    {
     "name": "stdout",
     "output_type": "stream",
     "text": [
      "Epoch 1/7\n",
      "5/5 - 0s - loss: 131348.5938 - accuracy: 0.8947\n",
      "Epoch 2/7\n",
      "5/5 - 0s - loss: 131973.6406 - accuracy: 0.9248\n",
      "Epoch 3/7\n",
      "5/5 - 0s - loss: 132573.1875 - accuracy: 0.8947\n",
      "Epoch 4/7\n",
      "5/5 - 0s - loss: 133080.5156 - accuracy: 0.9023\n",
      "Epoch 5/7\n",
      "5/5 - 0s - loss: 133478.4375 - accuracy: 0.8722\n",
      "Epoch 6/7\n",
      "5/5 - 0s - loss: 133895.6406 - accuracy: 0.8571\n",
      "Epoch 7/7\n",
      "5/5 - 0s - loss: 134358.4688 - accuracy: 0.8797\n"
     ]
    }
   ],
   "source": [
    "hstr = model.fit(X_train, y_train, epochs=7, batch_size=32, verbose=2)"
   ]
  },
  {
   "cell_type": "code",
   "execution_count": 196,
   "metadata": {},
   "outputs": [
    {
     "data": {
      "text/plain": [
       "array([[ 3.4837875e+00,  5.4497290e+00, -4.8413653e+00, -4.1200762e+00,\n",
       "        -4.4609122e+00, -3.7463150e+00, -4.7915626e+00, -4.6990027e+00,\n",
       "        -3.9092271e+00, -3.2455454e+00],\n",
       "       [ 5.6524396e-01,  4.6186094e+00,  3.2147653e+00, -4.8626833e+00,\n",
       "        -5.9540224e+00, -5.9019403e+00, -5.6191216e+00, -5.4745598e+00,\n",
       "        -6.0034308e+00, -5.5614781e+00],\n",
       "       [ 6.7127156e-01,  7.0670109e+00, -1.6949707e+00, -5.0776334e+00,\n",
       "        -4.9951849e+00, -4.4098043e+00, -5.0452442e+00, -3.9683747e+00,\n",
       "        -4.5015674e+00, -3.3147252e+00],\n",
       "       [ 3.6462829e+00,  5.6462574e+00, -5.2379036e+00, -4.1027565e+00,\n",
       "        -4.5367517e+00, -3.7768555e+00, -4.9872103e+00, -4.8281970e+00,\n",
       "        -3.9765139e+00, -3.3872232e+00],\n",
       "       [ 3.0360967e-01,  6.9845796e+00, -6.5151227e-01, -5.2837553e+00,\n",
       "        -5.2800951e+00, -4.8149352e+00, -5.3953872e+00, -4.2933965e+00,\n",
       "        -4.8663406e+00, -3.8338702e+00],\n",
       "       [ 1.3939266e+00,  6.6569452e+00, -2.6295109e+00, -4.4247179e+00,\n",
       "        -4.6809363e+00, -3.9986844e+00, -4.3882976e+00, -3.7617455e+00,\n",
       "        -4.2222514e+00, -2.7756116e+00],\n",
       "       [ 4.2410917e+00,  6.0978618e+00, -6.4228544e+00, -4.0617733e+00,\n",
       "        -4.6843233e+00, -3.8049684e+00, -5.4284582e+00, -5.4480743e+00,\n",
       "        -4.0826416e+00, -3.5194700e+00],\n",
       "       [ 3.8578537e-01,  4.9501371e+00,  2.6845644e+00, -4.9944181e+00,\n",
       "        -5.8859468e+00, -5.5299211e+00, -5.4569936e+00, -5.3057556e+00,\n",
       "        -5.7537317e+00, -5.3550763e+00],\n",
       "       [ 1.0125473e+00,  6.4361658e+00, -1.3945404e+00, -4.7739348e+00,\n",
       "        -4.7580457e+00, -4.1603322e+00, -4.7124071e+00, -3.9856105e+00,\n",
       "        -4.3412137e+00, -3.3068445e+00],\n",
       "       [ 6.4087522e-01,  6.5301104e+00, -8.0931175e-01, -5.0200500e+00,\n",
       "        -5.1686444e+00, -4.5190582e+00, -5.0049043e+00, -4.2460103e+00,\n",
       "        -4.6770630e+00, -3.7300377e+00],\n",
       "       [ 2.0059972e+00,  4.2231808e+00, -6.5717149e-01, -3.9362381e+00,\n",
       "        -4.4833345e+00, -4.1118951e+00, -4.1682982e+00, -4.1538243e+00,\n",
       "        -4.2255831e+00, -3.7140615e+00],\n",
       "       [-4.9283451e-01,  5.5687943e+00,  3.4733729e+00, -5.4844913e+00,\n",
       "        -6.3032575e+00, -5.9644680e+00, -6.0998292e+00, -5.7180886e+00,\n",
       "        -6.1065745e+00, -5.9121709e+00],\n",
       "       [ 4.7043548e+00,  6.2374716e+00, -6.7296929e+00, -4.1487441e+00,\n",
       "        -5.0592060e+00, -3.9552774e+00, -5.9360881e+00, -6.1182847e+00,\n",
       "        -4.4580212e+00, -3.9085758e+00],\n",
       "       [ 2.1727574e+00,  5.9165277e+00, -3.2522783e+00, -4.1883888e+00,\n",
       "        -4.1047931e+00, -3.3926673e+00, -4.0158567e+00, -3.5614362e+00,\n",
       "        -3.6419127e+00, -2.4791224e+00],\n",
       "       [ 1.8218887e+00,  4.0020509e+00,  1.5641589e-01, -4.0002851e+00,\n",
       "        -4.7817512e+00, -4.6099181e+00, -4.5101247e+00, -4.4501262e+00,\n",
       "        -4.6573849e+00, -4.2857413e+00],\n",
       "       [-1.6445285e-01,  8.1934633e+00, -1.5179703e+00, -5.7219238e+00,\n",
       "        -5.4763284e+00, -4.9799585e+00, -5.9604001e+00, -4.1947865e+00,\n",
       "        -4.9255095e+00, -3.8384757e+00],\n",
       "       [ 4.0370874e+00,  6.1454153e+00, -6.2929916e+00, -4.1092410e+00,\n",
       "        -4.7140894e+00, -3.8583033e+00, -5.4107103e+00, -5.3275380e+00,\n",
       "        -4.1140594e+00, -3.4912021e+00],\n",
       "       [ 5.2176380e+00,  6.6498713e+00, -7.5485020e+00, -4.3217483e+00,\n",
       "        -5.7230434e+00, -4.1701450e+00, -6.8131576e+00, -7.0944743e+00,\n",
       "        -5.0112395e+00, -4.4568672e+00],\n",
       "       [ 1.6406310e-01,  5.8250723e+00,  1.5003738e+00, -5.1412826e+00,\n",
       "        -5.9218688e+00, -5.3441534e+00, -5.4317994e+00, -5.0406041e+00,\n",
       "        -5.4840317e+00, -4.8910618e+00],\n",
       "       [ 4.1320958e+00,  5.7165055e+00, -5.9427323e+00, -4.0515347e+00,\n",
       "        -4.4941740e+00, -3.6597276e+00, -5.1178269e+00, -5.1329665e+00,\n",
       "        -3.8718119e+00, -3.2971268e+00],\n",
       "       [ 1.2113476e+00,  6.5628715e+00, -1.8780409e+00, -4.7363715e+00,\n",
       "        -4.4434829e+00, -3.9600224e+00, -4.6452489e+00, -3.7640247e+00,\n",
       "        -4.0900130e+00, -2.9857130e+00],\n",
       "       [ 3.5383971e+00,  5.3437510e+00, -4.7887282e+00, -4.0737338e+00,\n",
       "        -4.3793554e+00, -3.6375172e+00, -4.7253623e+00, -4.5897036e+00,\n",
       "        -3.8388035e+00, -3.2458918e+00],\n",
       "       [ 2.2701452e+00,  5.5058355e+00, -3.2716980e+00, -4.1898742e+00,\n",
       "        -4.6232982e+00, -3.8741014e+00, -4.2012091e+00, -4.0821786e+00,\n",
       "        -3.9729624e+00, -2.8646975e+00],\n",
       "       [ 2.0279987e+00,  5.8814020e+00, -2.9652028e+00, -4.1831765e+00,\n",
       "        -4.2538629e+00, -3.4987717e+00, -4.0748372e+00, -3.6712980e+00,\n",
       "        -3.7546258e+00, -2.6678042e+00],\n",
       "       [ 1.7097185e+00,  5.1479392e+00, -1.2748206e+00, -4.1646333e+00,\n",
       "        -4.7012854e+00, -4.0720959e+00, -4.1925197e+00, -4.1329603e+00,\n",
       "        -4.2632785e+00, -3.4060938e+00],\n",
       "       [-4.0520430e-03,  7.6684771e+00, -1.0304263e+00, -5.5544758e+00,\n",
       "        -5.5231938e+00, -4.9959512e+00, -5.7767625e+00, -4.3165245e+00,\n",
       "        -4.9883251e+00, -3.9727142e+00],\n",
       "       [ 1.6016415e-01,  7.3902302e+00, -9.9790657e-01, -5.4504480e+00,\n",
       "        -5.3930111e+00, -4.8612957e+00, -5.5879707e+00, -4.2623663e+00,\n",
       "        -4.8999624e+00, -3.8683090e+00],\n",
       "       [ 8.1584805e-01,  6.5446510e+00, -1.2573647e+00, -4.8170519e+00,\n",
       "        -5.1425500e+00, -4.3916965e+00, -4.8296752e+00, -4.1712346e+00,\n",
       "        -4.6015754e+00, -3.5699809e+00],\n",
       "       [ 1.4677730e+00,  5.4736938e+00, -1.1919068e+00, -4.2866549e+00,\n",
       "        -4.7885756e+00, -4.1108952e+00, -4.2220731e+00, -4.1374898e+00,\n",
       "        -4.3514080e+00, -3.3173602e+00],\n",
       "       [ 1.0213759e+00,  4.2320180e+00,  2.5091798e+00, -4.5873537e+00,\n",
       "        -5.4537897e+00, -5.3222232e+00, -4.9945397e+00, -5.0990620e+00,\n",
       "        -5.4934511e+00, -5.1066661e+00],\n",
       "       [ 3.8879006e+00,  5.4710979e+00, -5.3917356e+00, -4.0515471e+00,\n",
       "        -4.3924870e+00, -3.6092989e+00, -4.8929687e+00, -4.8671379e+00,\n",
       "        -3.7999632e+00, -3.2077107e+00],\n",
       "       [ 3.2022007e+00,  5.4578729e+00, -4.4813552e+00, -4.2035365e+00,\n",
       "        -4.5101447e+00, -3.8021460e+00, -4.6599813e+00, -4.5237689e+00,\n",
       "        -3.9237804e+00, -3.1351209e+00],\n",
       "       [ 1.1790341e+00,  5.7076650e+00, -6.3489139e-01, -4.5437517e+00,\n",
       "        -4.8791623e+00, -4.1938930e+00, -4.4813991e+00, -4.2248378e+00,\n",
       "        -4.4698586e+00, -3.5937004e+00],\n",
       "       [ 3.5073705e+00,  5.1778536e+00, -4.4955931e+00, -4.0322657e+00,\n",
       "        -4.3966298e+00, -3.7288952e+00, -4.7535939e+00, -4.6959639e+00,\n",
       "        -3.8902621e+00, -3.3435650e+00],\n",
       "       [ 3.4129498e+00,  5.2310810e+00, -4.6091418e+00, -4.0764642e+00,\n",
       "        -4.2443938e+00, -3.5057373e+00, -4.4893789e+00, -4.4017425e+00,\n",
       "        -3.6873803e+00, -2.9988291e+00],\n",
       "       [ 2.9062188e+00,  5.4132175e+00, -4.1446481e+00, -4.2555480e+00,\n",
       "        -4.3898382e+00, -3.6292479e+00, -4.3036599e+00, -4.1472473e+00,\n",
       "        -3.7748349e+00, -2.8681953e+00],\n",
       "       [ 1.5543420e+00,  4.5086732e+00,  8.6956516e-02, -4.1404581e+00,\n",
       "        -4.8878388e+00, -4.6081395e+00, -4.4739399e+00, -4.4755707e+00,\n",
       "        -4.6984253e+00, -4.0730882e+00],\n",
       "       [ 5.8555573e-01,  6.2988052e+00, -3.2087660e-01, -5.0152082e+00,\n",
       "        -5.3262877e+00, -4.6422386e+00, -5.0336394e+00, -4.4177637e+00,\n",
       "        -4.8310642e+00, -3.9849303e+00],\n",
       "       [ 1.8370996e-01,  7.4103689e+00, -1.0972077e+00, -5.3576546e+00,\n",
       "        -5.4231067e+00, -4.8875179e+00, -5.5352898e+00, -4.2540421e+00,\n",
       "        -4.8924284e+00, -3.8129065e+00],\n",
       "       [ 1.8010316e+00,  3.9668415e+00,  2.0707633e-01, -3.9872997e+00,\n",
       "        -4.7356896e+00, -4.5469213e+00, -4.4306421e+00, -4.4243860e+00,\n",
       "        -4.6173773e+00, -4.1952205e+00],\n",
       "       [ 2.8540993e+00,  5.7099056e+00, -4.5446486e+00, -4.2055402e+00,\n",
       "        -4.1316366e+00, -3.3997414e+00, -4.1526823e+00, -3.8409653e+00,\n",
       "        -3.5409179e+00, -2.5105388e+00],\n",
       "       [ 4.1650624e+00,  5.9560289e+00, -6.1796155e+00, -4.0754180e+00,\n",
       "        -4.6495399e+00, -3.7789359e+00, -5.3126688e+00, -5.2574244e+00,\n",
       "        -4.0361958e+00, -3.4985938e+00],\n",
       "       [-3.5903126e-02,  8.0023851e+00, -1.4676058e+00, -5.6227388e+00,\n",
       "        -5.3729558e+00, -4.9213371e+00, -5.8283706e+00, -4.1566963e+00,\n",
       "        -4.8611584e+00, -3.7353489e+00],\n",
       "       [ 1.2998672e+00,  6.1559725e+00, -1.6099308e+00, -4.4904976e+00,\n",
       "        -4.6980238e+00, -3.9896734e+00, -4.4215255e+00, -3.9626880e+00,\n",
       "        -4.2371812e+00, -3.1579173e+00],\n",
       "       [ 4.3781969e-01,  6.9112434e+00, -9.9990642e-01, -5.1553998e+00,\n",
       "        -5.3695807e+00, -4.6692820e+00, -5.2182755e+00, -4.2731590e+00,\n",
       "        -4.8063550e+00, -3.8240912e+00]], dtype=float32)"
      ]
     },
     "execution_count": 196,
     "metadata": {},
     "output_type": "execute_result"
    }
   ],
   "source": [
    "model.predict(X_test)"
   ]
  },
  {
   "cell_type": "code",
   "execution_count": 197,
   "metadata": {},
   "outputs": [
    {
     "name": "stdout",
     "output_type": "stream",
     "text": [
      "WARNING:tensorflow:AutoGraph could not transform <function Model.make_predict_function.<locals>.predict_function at 0x1593f14c0> and will run it as-is.\n",
      "Please report this to the TensorFlow team. When filing the bug, set the verbosity to 10 (on Linux, `export AUTOGRAPH_VERBOSITY=10`) and attach the full output.\n",
      "Cause: unsupported operand type(s) for -: 'NoneType' and 'int'\n",
      "To silence this warning, decorate the function with @tf.autograph.experimental.do_not_convert\n",
      "WARNING: AutoGraph could not transform <function Model.make_predict_function.<locals>.predict_function at 0x1593f14c0> and will run it as-is.\n",
      "Please report this to the TensorFlow team. When filing the bug, set the verbosity to 10 (on Linux, `export AUTOGRAPH_VERBOSITY=10`) and attach the full output.\n",
      "Cause: unsupported operand type(s) for -: 'NoneType' and 'int'\n",
      "To silence this warning, decorate the function with @tf.autograph.experimental.do_not_convert\n"
     ]
    }
   ],
   "source": [
    "probability_model = tf.keras.Sequential([model, \n",
    "                                         tf.keras.layers.Softmax()])\n",
    "predictions = probability_model.predict(X_test)"
   ]
  },
  {
   "cell_type": "code",
   "execution_count": 198,
   "metadata": {},
   "outputs": [
    {
     "name": "stdout",
     "output_type": "stream",
     "text": [
      "[1.3745009e-02 7.9158831e-01 1.9445433e-01 6.0370709e-05 2.0270465e-05\n",
      " 2.1354168e-05 2.8334092e-05 3.2740980e-05 1.9293282e-05 3.0015342e-05]\n",
      "1\n",
      "2\n"
     ]
    }
   ],
   "source": [
    "print(predictions[1],\n",
    "      np.argmax(predictions[1]),\n",
    "      y_test[1],\n",
    "      sep='\\n')"
   ]
  },
  {
   "cell_type": "code",
   "execution_count": null,
   "metadata": {},
   "outputs": [],
   "source": []
  }
 ],
 "metadata": {
  "accelerator": "GPU",
  "colab": {
   "collapsed_sections": [],
   "name": "Lesson 3.ipynb",
   "provenance": []
  },
  "kernelspec": {
   "display_name": "Python 3 (ipykernel)",
   "language": "python",
   "name": "python3"
  },
  "language_info": {
   "codemirror_mode": {
    "name": "ipython",
    "version": 3
   },
   "file_extension": ".py",
   "mimetype": "text/x-python",
   "name": "python",
   "nbconvert_exporter": "python",
   "pygments_lexer": "ipython3",
   "version": "3.8.13"
  }
 },
 "nbformat": 4,
 "nbformat_minor": 1
}
